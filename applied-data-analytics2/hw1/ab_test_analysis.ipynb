{
 "cells": [
  {
   "cell_type": "markdown",
   "id": "71da929e",
   "metadata": {},
   "source": [
    "\n",
    "# A/B Test Analysis – Two-Proportion Z-Test & Chi-Square Test\n",
    "\n",
    "This notebook performs:\n",
    "1. **Two-Proportion Z-Test** for conversion rate difference between `A (Control)` and `B (Treatment)`  \n",
    "2. **Chi-Square Test of Independence** on the 2×2 contingency table  \n",
    "\n",
    "We also include **confidence intervals**, **effect sizes** (absolute difference and relative risk), and concise **interpretation** at α = 0.05.\n",
    "\n",
    "---\n"
   ]
  },
  {
   "cell_type": "code",
   "execution_count": 1,
   "id": "39222253",
   "metadata": {},
   "outputs": [],
   "source": [
    "\n",
    "import numpy as np\n",
    "import pandas as pd\n",
    "from statsmodels.stats.proportion import proportions_ztest\n",
    "from scipy.stats import chi2_contingency\n",
    "from math import sqrt\n"
   ]
  },
  {
   "cell_type": "markdown",
   "id": "3ca0aca4",
   "metadata": {},
   "source": [
    "## 1) Data Setup"
   ]
  },
  {
   "cell_type": "code",
   "execution_count": 2,
   "id": "70a517ab",
   "metadata": {},
   "outputs": [
    {
     "data": {
      "text/html": [
       "<div>\n",
       "<style scoped>\n",
       "    .dataframe tbody tr th:only-of-type {\n",
       "        vertical-align: middle;\n",
       "    }\n",
       "\n",
       "    .dataframe tbody tr th {\n",
       "        vertical-align: top;\n",
       "    }\n",
       "\n",
       "    .dataframe thead th {\n",
       "        text-align: right;\n",
       "    }\n",
       "</style>\n",
       "<table border=\"1\" class=\"dataframe\">\n",
       "  <thead>\n",
       "    <tr style=\"text-align: right;\">\n",
       "      <th></th>\n",
       "      <th>Variant</th>\n",
       "      <th>Sessions</th>\n",
       "      <th>Conversions</th>\n",
       "      <th>Conversion Rate (%)</th>\n",
       "    </tr>\n",
       "  </thead>\n",
       "  <tbody>\n",
       "    <tr>\n",
       "      <th>0</th>\n",
       "      <td>A (Control)</td>\n",
       "      <td>4912</td>\n",
       "      <td>127</td>\n",
       "      <td>2.5855</td>\n",
       "    </tr>\n",
       "    <tr>\n",
       "      <th>1</th>\n",
       "      <td>B (Treatment)</td>\n",
       "      <td>4866</td>\n",
       "      <td>78</td>\n",
       "      <td>1.6030</td>\n",
       "    </tr>\n",
       "  </tbody>\n",
       "</table>\n",
       "</div>"
      ],
      "text/plain": [
       "         Variant  Sessions  Conversions  Conversion Rate (%)\n",
       "0    A (Control)      4912          127               2.5855\n",
       "1  B (Treatment)      4866           78               1.6030"
      ]
     },
     "execution_count": 2,
     "metadata": {},
     "output_type": "execute_result"
    }
   ],
   "source": [
    "\n",
    "# Given counts\n",
    "sessions_A, conv_A = 4912, 127\n",
    "sessions_B, conv_B = 4866, 78\n",
    "\n",
    "# Build a small summary table\n",
    "data_df = pd.DataFrame({\n",
    "    \"Variant\": [\"A (Control)\", \"B (Treatment)\"],\n",
    "    \"Sessions\": [sessions_A, sessions_B],\n",
    "    \"Conversions\": [conv_A, conv_B],\n",
    "    \"Conversion Rate (%)\": [100*conv_A/sessions_A, 100*conv_B/sessions_B]\n",
    "})\n",
    "data_df.round(4)\n"
   ]
  },
  {
   "cell_type": "markdown",
   "id": "74b89df5",
   "metadata": {},
   "source": [
    "## 2) Two-Proportion Z-Test"
   ]
  },
  {
   "cell_type": "code",
   "execution_count": 3,
   "id": "837e95ff",
   "metadata": {},
   "outputs": [
    {
     "data": {
      "text/html": [
       "<div>\n",
       "<style scoped>\n",
       "    .dataframe tbody tr th:only-of-type {\n",
       "        vertical-align: middle;\n",
       "    }\n",
       "\n",
       "    .dataframe tbody tr th {\n",
       "        vertical-align: top;\n",
       "    }\n",
       "\n",
       "    .dataframe thead th {\n",
       "        text-align: right;\n",
       "    }\n",
       "</style>\n",
       "<table border=\"1\" class=\"dataframe\">\n",
       "  <thead>\n",
       "    <tr style=\"text-align: right;\">\n",
       "      <th></th>\n",
       "      <th>Metric</th>\n",
       "      <th>Value</th>\n",
       "    </tr>\n",
       "  </thead>\n",
       "  <tbody>\n",
       "    <tr>\n",
       "      <th>0</th>\n",
       "      <td>Z statistic</td>\n",
       "      <td>3.390721</td>\n",
       "    </tr>\n",
       "    <tr>\n",
       "      <th>1</th>\n",
       "      <td>p-value (two-sided)</td>\n",
       "      <td>0.000697</td>\n",
       "    </tr>\n",
       "    <tr>\n",
       "      <th>2</th>\n",
       "      <td>p_A</td>\n",
       "      <td>0.025855</td>\n",
       "    </tr>\n",
       "    <tr>\n",
       "      <th>3</th>\n",
       "      <td>p_B</td>\n",
       "      <td>0.016030</td>\n",
       "    </tr>\n",
       "    <tr>\n",
       "      <th>4</th>\n",
       "      <td>Diff (p_A - p_B)</td>\n",
       "      <td>0.009825</td>\n",
       "    </tr>\n",
       "    <tr>\n",
       "      <th>5</th>\n",
       "      <td>95% CI Low</td>\n",
       "      <td>0.004155</td>\n",
       "    </tr>\n",
       "    <tr>\n",
       "      <th>6</th>\n",
       "      <td>95% CI High</td>\n",
       "      <td>0.015495</td>\n",
       "    </tr>\n",
       "  </tbody>\n",
       "</table>\n",
       "</div>"
      ],
      "text/plain": [
       "                Metric     Value\n",
       "0          Z statistic  3.390721\n",
       "1  p-value (two-sided)  0.000697\n",
       "2                  p_A  0.025855\n",
       "3                  p_B  0.016030\n",
       "4     Diff (p_A - p_B)  0.009825\n",
       "5           95% CI Low  0.004155\n",
       "6          95% CI High  0.015495"
      ]
     },
     "execution_count": 3,
     "metadata": {},
     "output_type": "execute_result"
    }
   ],
   "source": [
    "\n",
    "# H0: p_A == p_B  vs  H1: p_A != p_B\n",
    "\n",
    "count = np.array([conv_A, conv_B])\n",
    "nobs  = np.array([sessions_A, sessions_B])\n",
    "z_stat, pval_ztest = proportions_ztest(count, nobs, alternative=\"two-sided\")\n",
    "\n",
    "# 95% CI for difference (p_A - p_B) using Wald (unpooled) approximation\n",
    "pA = conv_A / sessions_A\n",
    "pB = conv_B / sessions_B\n",
    "diff = pA - pB\n",
    "z_975 = 1.959963984540054  # ~97.5th percentile for two-sided 95% CI\n",
    "se_diff = sqrt(pA*(1-pA)/sessions_A + pB*(1-pB)/sessions_B)\n",
    "ci_low = diff - z_975 * se_diff\n",
    "ci_high = diff + z_975 * se_diff\n",
    "\n",
    "ztest_df = pd.DataFrame({\n",
    "    \"Metric\": [\"Z statistic\", \"p-value (two-sided)\", \"p_A\", \"p_B\", \"Diff (p_A - p_B)\", \"95% CI Low\", \"95% CI High\"],\n",
    "    \"Value\": [z_stat, pval_ztest, pA, pB, diff, ci_low, ci_high]\n",
    "})\n",
    "ztest_df\n"
   ]
  },
  {
   "cell_type": "markdown",
   "id": "d8df5079",
   "metadata": {},
   "source": [
    "## 3) Chi-Square Test of Independence (2×2)"
   ]
  },
  {
   "cell_type": "code",
   "execution_count": 4,
   "id": "dc19678a",
   "metadata": {},
   "outputs": [
    {
     "data": {
      "text/plain": [
       "(               Conversion=Yes  Conversion=No\n",
       " A (Control)               127           4785\n",
       " B (Treatment)              78           4788,\n",
       "                Expected Yes  Expected No\n",
       " A (Control)          102.98      4809.02\n",
       " B (Treatment)        102.02      4763.98,\n",
       "                  Metric      Value\n",
       " 0  Chi-square statistic  11.496986\n",
       " 1    Degrees of freedom   1.000000\n",
       " 2   p-value (two-sided)   0.000697)"
      ]
     },
     "execution_count": 4,
     "metadata": {},
     "output_type": "execute_result"
    }
   ],
   "source": [
    "\n",
    "# Contingency table\n",
    "contingency = np.array([\n",
    "    [conv_A, sessions_A - conv_A],\n",
    "    [conv_B, sessions_B - conv_B]\n",
    "])\n",
    "\n",
    "chi2_stat, pval_chi2, dof, expected = chi2_contingency(contingency, correction=False)\n",
    "\n",
    "contingency_df = pd.DataFrame(contingency, \n",
    "                              index=[\"A (Control)\", \"B (Treatment)\"], \n",
    "                              columns=[\"Conversion=Yes\", \"Conversion=No\"])\n",
    "expected_df = pd.DataFrame(expected, \n",
    "                           index=[\"A (Control)\", \"B (Treatment)\"], \n",
    "                           columns=[\"Expected Yes\", \"Expected No\"])\n",
    "\n",
    "contingency_df, expected_df.round(2), pd.DataFrame({\n",
    "    \"Metric\": [\"Chi-square statistic\", \"Degrees of freedom\", \"p-value (two-sided)\"],\n",
    "    \"Value\": [chi2_stat, dof, pval_chi2]\n",
    "})\n"
   ]
  },
  {
   "cell_type": "markdown",
   "id": "ed8531bb",
   "metadata": {},
   "source": [
    "## 4) Practical Effect Size"
   ]
  },
  {
   "cell_type": "code",
   "execution_count": 5,
   "id": "82ceea8d",
   "metadata": {},
   "outputs": [
    {
     "data": {
      "text/html": [
       "<div>\n",
       "<style scoped>\n",
       "    .dataframe tbody tr th:only-of-type {\n",
       "        vertical-align: middle;\n",
       "    }\n",
       "\n",
       "    .dataframe tbody tr th {\n",
       "        vertical-align: top;\n",
       "    }\n",
       "\n",
       "    .dataframe thead th {\n",
       "        text-align: right;\n",
       "    }\n",
       "</style>\n",
       "<table border=\"1\" class=\"dataframe\">\n",
       "  <thead>\n",
       "    <tr style=\"text-align: right;\">\n",
       "      <th></th>\n",
       "      <th>Metric</th>\n",
       "      <th>Value</th>\n",
       "    </tr>\n",
       "  </thead>\n",
       "  <tbody>\n",
       "    <tr>\n",
       "      <th>0</th>\n",
       "      <td>Absolute difference (p_A - p_B)</td>\n",
       "      <td>0.009825</td>\n",
       "    </tr>\n",
       "    <tr>\n",
       "      <th>1</th>\n",
       "      <td>Relative Risk (B/A)</td>\n",
       "      <td>0.619979</td>\n",
       "    </tr>\n",
       "    <tr>\n",
       "      <th>2</th>\n",
       "      <td>RR 95% CI Low</td>\n",
       "      <td>0.468968</td>\n",
       "    </tr>\n",
       "    <tr>\n",
       "      <th>3</th>\n",
       "      <td>RR 95% CI High</td>\n",
       "      <td>0.819617</td>\n",
       "    </tr>\n",
       "  </tbody>\n",
       "</table>\n",
       "</div>"
      ],
      "text/plain": [
       "                            Metric     Value\n",
       "0  Absolute difference (p_A - p_B)  0.009825\n",
       "1              Relative Risk (B/A)  0.619979\n",
       "2                    RR 95% CI Low  0.468968\n",
       "3                   RR 95% CI High  0.819617"
      ]
     },
     "execution_count": 5,
     "metadata": {},
     "output_type": "execute_result"
    }
   ],
   "source": [
    "\n",
    "# Absolute difference and Relative Risk (RR)\n",
    "ARR = pA - pB\n",
    "RR = pB / pA if pA > 0 else np.nan\n",
    "\n",
    "# Standard error for log(RR) and 95% CI for RR\n",
    "se_log_rr = sqrt((1/conv_B) - (1/sessions_B) + (1/conv_A) - (1/sessions_A))\n",
    "log_rr = np.log(RR)\n",
    "rr_ci_low = np.exp(log_rr - z_975 * se_log_rr)\n",
    "rr_ci_high = np.exp(log_rr + z_975 * se_log_rr)\n",
    "\n",
    "effects_df = pd.DataFrame({\n",
    "    \"Metric\": [\"Absolute difference (p_A - p_B)\", \"Relative Risk (B/A)\", \"RR 95% CI Low\", \"RR 95% CI High\"],\n",
    "    \"Value\": [ARR, RR, rr_ci_low, rr_ci_high]\n",
    "})\n",
    "effects_df\n"
   ]
  },
  {
   "cell_type": "markdown",
   "id": "84861a60",
   "metadata": {},
   "source": [
    "## 5) Conclusions (α = 0.05)"
   ]
  },
  {
   "cell_type": "code",
   "execution_count": 7,
   "id": "beb394e4",
   "metadata": {},
   "outputs": [
    {
     "name": "stdout",
     "output_type": "stream",
     "text": [
      "이표본 비율 z-검정 p-값 = 0.000697 -> H0 기각 (비율이 다름)\n",
      "카이제곱 검정 p-값 = 0.000697 -> H0 기각 (연관성 있음)\n",
      "\n",
      "추정된 전환율: p_A = 2.5855%, p_B = 1.6030%\n",
      "추정된 차이 (A - B): 0.9825%, 95% 신뢰구간 [0.4155%, 1.5495%]\n",
      "상대위험도 (B/A): 0.620, 95% 신뢰구간 [0.469, 0.820]\n"
     ]
    }
   ],
   "source": [
    "\n",
    "alpha = 0.05\n",
    "print(f\"이표본 비율 z-검정 p-값 = {pval_ztest:.6f} -> \"\n",
    "      f\"{'H0 기각 (비율이 다름)' if pval_ztest < alpha else 'H0 기각 실패'}\")\n",
    "print(f\"카이제곱 검정 p-값 = {pval_chi2:.6f} -> \"\n",
    "      f\"{'H0 기각 (연관성 있음)' if pval_chi2 < alpha else 'H0 기각 실패'}\")\n",
    "\n",
    "print()\n",
    "print(f\"추정된 전환율: p_A = {pA:.4%}, p_B = {pB:.4%}\")\n",
    "print(f\"추정된 차이 (A - B): {diff:.4%}, 95% 신뢰구간 [{ci_low:.4%}, {ci_high:.4%}]\")\n",
    "print(f\"상대위험도 (B/A): {RR:.3f}, 95% 신뢰구간 [{rr_ci_low:.3f}, {rr_ci_high:.3f}]\")\n"
   ]
  },
  {
   "cell_type": "markdown",
   "id": "1c38b0b5",
   "metadata": {},
   "source": [
    "\n",
    "---\n",
    "\n",
    "### Notes\n",
    "- The two-proportion z-test and chi-square test on a 2×2 table are asymptotically equivalent for large samples.\n",
    "- We used **no Yates’ continuity correction** in `chi2_contingency(..., correction=False)` to align with the z-test.\n",
    "- If counts are small, consider **Fisher’s exact test**.\n"
   ]
  }
 ],
 "metadata": {
  "kernelspec": {
   "display_name": ".venv",
   "language": "python",
   "name": "python3"
  },
  "language_info": {
   "codemirror_mode": {
    "name": "ipython",
    "version": 3
   },
   "file_extension": ".py",
   "mimetype": "text/x-python",
   "name": "python",
   "nbconvert_exporter": "python",
   "pygments_lexer": "ipython3",
   "version": "3.12.10"
  }
 },
 "nbformat": 4,
 "nbformat_minor": 5
}
