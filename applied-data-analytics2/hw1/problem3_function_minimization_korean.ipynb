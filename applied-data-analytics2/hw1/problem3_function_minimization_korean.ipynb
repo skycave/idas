{
 "cells": [
  {
   "cell_type": "markdown",
   "id": "818a086a",
   "metadata": {},
   "source": [
    "# 문제 3 — 함수 최소화\n",
    "다음 함수를 고려한다:\n",
    "\\[ f(x) = x^4 - 4x \\]\n",
    "\n",
    "**문제**\n",
    "1. `scipy.optimize.minimize_scalar` 를 사용하여 지역 최소값을 구하시오.\n",
    "2. 뉴턴-랩슨 방법(Newton-Raphson Method)을 적용하여 최소값을 구하시오.\n",
    "3. 경사하강법(Gradient Descent)을 적용하여 최소값을 구하시오.\n",
    "\n",
    "모든 코드와 출력은 한글 주석과 함께 작성한다.\n"
   ]
  },
  {
   "cell_type": "code",
   "execution_count": 1,
   "id": "dc1de969",
   "metadata": {},
   "outputs": [],
   "source": [
    "\n",
    "# 필요한 라이브러리 불러오기\n",
    "import numpy as np\n",
    "import matplotlib.pyplot as plt\n",
    "\n",
    "try:\n",
    "    from scipy.optimize import minimize_scalar\n",
    "    SCIPY_AVAILABLE = True\n",
    "except:\n",
    "    SCIPY_AVAILABLE = False\n",
    "\n",
    "# 함수 정의\n",
    "def f(x):\n",
    "    return x**4 - 4*x\n",
    "\n",
    "# 1차 미분 (gradient)\n",
    "def df(x):\n",
    "    return 4*x**3 - 4\n",
    "\n",
    "# 2차 미분 (Hessian)\n",
    "def d2f(x):\n",
    "    return 12*x**2\n"
   ]
  },
  {
   "cell_type": "markdown",
   "id": "39f7afa3",
   "metadata": {},
   "source": [
    "## 함수 시각화"
   ]
  },
  {
   "cell_type": "code",
   "execution_count": 2,
   "id": "2a5a6f2d",
   "metadata": {},
   "outputs": [
    {
     "name": "stderr",
     "output_type": "stream",
     "text": [
      "/Users/skycave/repository/idas/.venv/lib/python3.12/site-packages/IPython/core/pylabtools.py:170: UserWarning: Glyph 54632 (\\N{HANGUL SYLLABLE HAM}) missing from font(s) DejaVu Sans.\n",
      "  fig.canvas.print_figure(bytes_io, **kw)\n",
      "/Users/skycave/repository/idas/.venv/lib/python3.12/site-packages/IPython/core/pylabtools.py:170: UserWarning: Glyph 49688 (\\N{HANGUL SYLLABLE SU}) missing from font(s) DejaVu Sans.\n",
      "  fig.canvas.print_figure(bytes_io, **kw)\n",
      "/Users/skycave/repository/idas/.venv/lib/python3.12/site-packages/IPython/core/pylabtools.py:170: UserWarning: Glyph 44536 (\\N{HANGUL SYLLABLE GEU}) missing from font(s) DejaVu Sans.\n",
      "  fig.canvas.print_figure(bytes_io, **kw)\n",
      "/Users/skycave/repository/idas/.venv/lib/python3.12/site-packages/IPython/core/pylabtools.py:170: UserWarning: Glyph 47000 (\\N{HANGUL SYLLABLE RAE}) missing from font(s) DejaVu Sans.\n",
      "  fig.canvas.print_figure(bytes_io, **kw)\n",
      "/Users/skycave/repository/idas/.venv/lib/python3.12/site-packages/IPython/core/pylabtools.py:170: UserWarning: Glyph 54532 (\\N{HANGUL SYLLABLE PEU}) missing from font(s) DejaVu Sans.\n",
      "  fig.canvas.print_figure(bytes_io, **kw)\n"
     ]
    },
    {
     "data": {
      "image/png": "[encoded data removed]",
      "text/plain": [
       "<Figure size 640x480 with 1 Axes>"
      ]
     },
     "metadata": {},
     "output_type": "display_data"
    }
   ],
   "source": [
    "\n",
    "xs = np.linspace(-5, 5, 400)\n",
    "ys = f(xs)\n",
    "\n",
    "plt.figure()\n",
    "plt.plot(xs, ys, label=\"f(x) = x^4 - 4x\")\n",
    "plt.axhline(0, color=\"black\", linewidth=0.5)\n",
    "plt.axvline(0, color=\"black\", linewidth=0.5)\n",
    "plt.title(\"함수 f(x) 그래프\")\n",
    "plt.xlabel(\"x\")\n",
    "plt.ylabel(\"f(x)\")\n",
    "plt.legend()\n",
    "plt.show()\n"
   ]
  },
  {
   "cell_type": "markdown",
   "id": "ccba03b6",
   "metadata": {},
   "source": [
    "## (a) SciPy 최적화"
   ]
  },
  {
   "cell_type": "code",
   "execution_count": 3,
   "id": "df4eb8bf",
   "metadata": {},
   "outputs": [
    {
     "name": "stdout",
     "output_type": "stream",
     "text": [
      "SciPy 결과:\n",
      "  최소점 x* = 1.0000007153088344\n",
      "  최소값 f(x*) = -2.99999999999693\n"
     ]
    }
   ],
   "source": [
    "\n",
    "if SCIPY_AVAILABLE:\n",
    "    res = minimize_scalar(f, bounds=(-5, 5), method=\"bounded\")\n",
    "    print(\"SciPy 결과:\")\n",
    "    print(\"  최소점 x* =\", res.x)\n",
    "    print(\"  최소값 f(x*) =\", res.fun)\n",
    "else:\n",
    "    print(\"SciPy를 사용할 수 없어, 단순 격자 탐색으로 근사치를 구함.\")\n",
    "    xs_grid = np.linspace(-5, 5, 20001)\n",
    "    vals = f(xs_grid)\n",
    "    idx = np.argmin(vals)\n",
    "    print(\"  근사 최소점 x* =\", xs_grid[idx])\n",
    "    print(\"  근사 최소값 f(x*) =\", vals[idx])\n"
   ]
  },
  {
   "cell_type": "markdown",
   "id": "39440cf7",
   "metadata": {},
   "source": [
    "## (b) 뉴턴-랩슨 방법"
   ]
  },
  {
   "cell_type": "code",
   "execution_count": null,
   "id": "8a5d2604",
   "metadata": {},
   "outputs": [],
   "source": [
    "\n",
    "def newton_minimize(x0, max_iter=50, tol=1e-10):\n",
    "    x = float(x0)\n",
    "    history = [x]\n",
    "    for i in range(max_iter):\n",
    "        g = df(x)\n",
    "        h = d2f(x)\n",
    "        if abs(g) < tol:\n",
    "            break\n",
    "        if h == 0:\n",
    "            break\n",
    "        x_new = x - g / h\n",
    "        history.append(x_new)\n",
    "        if abs(x_new - x) < tol:\n",
    "            break\n",
    "        x = x_new\n",
    "    return x, f(x), history\n",
    "\n",
    "초기값들 = [0.1, 0.5, 2.0, -1.0, 5.0]\n",
    "for x0 in 초기값들:\n",
    "    xm, fm, hist = newton_minimize(x0)\n",
    "    print(f\"초기값 {x0} → 최소점 x*={xm:.6f}, 최소값 f(x*)={fm:.6f}, 반복횟수={len(hist)-1}\")\n"
   ]
  },
  {
   "cell_type": "markdown",
   "id": "d499fa15",
   "metadata": {},
   "source": [
    "## (c) 경사하강법"
   ]
  },
  {
   "cell_type": "code",
   "execution_count": null,
   "id": "39b02a22",
   "metadata": {},
   "outputs": [],
   "source": [
    "\n",
    "def gradient_descent(x0, lr=0.05, max_iter=2000, tol=1e-10):\n",
    "    x = float(x0)\n",
    "    history = [x]\n",
    "    for i in range(max_iter):\n",
    "        g = df(x)\n",
    "        if abs(g) < tol:\n",
    "            break\n",
    "        x_new = x - lr * g\n",
    "        history.append(x_new)\n",
    "        if abs(x_new - x) < tol:\n",
    "            break\n",
    "        x = x_new\n",
    "    return x, f(x), history\n",
    "\n",
    "초기값들 = [-2.0, -0.5, 0.5, 2.0, 5.0]\n",
    "for x0 in 초기값들:\n",
    "    xm, fm, hist = gradient_descent(x0, lr=0.01)\n",
    "    print(f\"초기값 {x0} → 최소점 x*={xm:.6f}, 최소값 f(x*)={fm:.6f}, 반복횟수={len(hist)-1}\")\n"
   ]
  },
  {
   "cell_type": "markdown",
   "id": "663ac52b",
   "metadata": {},
   "source": [
    "## 해석적 해답"
   ]
  },
  {
   "cell_type": "code",
   "execution_count": null,
   "id": "46280b8f",
   "metadata": {},
   "outputs": [],
   "source": [
    "\n",
    "print(\"해석적으로 f'(x)=0 → 4x^3 - 4 = 0 → x^3 = 1 → x=1\")\n",
    "print(\"f''(1)=12 > 0 이므로 최소점임.\")\n",
    "print(\"따라서 최소점 x* = 1, 최소값 f(x*) = -3\")\n"
   ]
  }
 ],
 "metadata": {
  "kernelspec": {
   "display_name": ".venv",
   "language": "python",
   "name": "python3"
  },
  "language_info": {
   "codemirror_mode": {
    "name": "ipython",
    "version": 3
   },
   "file_extension": ".py",
   "mimetype": "text/x-python",
   "name": "python",
   "nbconvert_exporter": "python",
   "pygments_lexer": "ipython3",
   "version": "3.12.10"
  }
 },
 "nbformat": 4,
 "nbformat_minor": 5
}
