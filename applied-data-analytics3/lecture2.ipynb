{
 "cells": [
  {
   "cell_type": "markdown",
   "id": "af5c164f",
   "metadata": {},
   "source": [
    "## 1.선형회귀모형"
   ]
  },
  {
   "cell_type": "code",
   "execution_count": null,
   "id": "4b2c766b",
   "metadata": {
    "vscode": {
     "languageId": "plaintext"
    }
   },
   "outputs": [],
   "source": []
  }
 ],
 "metadata": {
  "language_info": {
   "name": "python"
  }
 },
 "nbformat": 4,
 "nbformat_minor": 5
}
