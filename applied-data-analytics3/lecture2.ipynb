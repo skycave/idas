{
 "cells": [
  {
   "cell_type": "markdown",
   "id": "af5c164f",
   "metadata": {},
   "source": [
    "## 6.Scikit learn을 이용한 회귀분석"
   ]
  },
  {
   "cell_type": "code",
   "execution_count": 20,
   "id": "4b2c766b",
   "metadata": {},
   "outputs": [
    {
     "data": {
      "text/html": [
       "<div>\n",
       "<style scoped>\n",
       "    .dataframe tbody tr th:only-of-type {\n",
       "        vertical-align: middle;\n",
       "    }\n",
       "\n",
       "    .dataframe tbody tr th {\n",
       "        vertical-align: top;\n",
       "    }\n",
       "\n",
       "    .dataframe thead th {\n",
       "        text-align: right;\n",
       "    }\n",
       "</style>\n",
       "<table border=\"1\" class=\"dataframe\">\n",
       "  <thead>\n",
       "    <tr style=\"text-align: right;\">\n",
       "      <th></th>\n",
       "      <th>CRIM</th>\n",
       "      <th>ZN</th>\n",
       "      <th>INDUS</th>\n",
       "      <th>CHAS</th>\n",
       "      <th>NOX</th>\n",
       "      <th>RM</th>\n",
       "      <th>AGE</th>\n",
       "      <th>DIS</th>\n",
       "      <th>RAD</th>\n",
       "      <th>TAX</th>\n",
       "      <th>PTRATIO</th>\n",
       "      <th>LSTAT</th>\n",
       "      <th>MEDV</th>\n",
       "    </tr>\n",
       "  </thead>\n",
       "  <tbody>\n",
       "    <tr>\n",
       "      <th>0</th>\n",
       "      <td>0.00632</td>\n",
       "      <td>18.0</td>\n",
       "      <td>2.31</td>\n",
       "      <td>0</td>\n",
       "      <td>0.538</td>\n",
       "      <td>6.575</td>\n",
       "      <td>65.2</td>\n",
       "      <td>4.0900</td>\n",
       "      <td>1</td>\n",
       "      <td>296</td>\n",
       "      <td>15.3</td>\n",
       "      <td>4.98</td>\n",
       "      <td>24.0</td>\n",
       "    </tr>\n",
       "    <tr>\n",
       "      <th>1</th>\n",
       "      <td>0.02731</td>\n",
       "      <td>0.0</td>\n",
       "      <td>7.07</td>\n",
       "      <td>0</td>\n",
       "      <td>0.469</td>\n",
       "      <td>6.421</td>\n",
       "      <td>78.9</td>\n",
       "      <td>4.9671</td>\n",
       "      <td>2</td>\n",
       "      <td>242</td>\n",
       "      <td>17.8</td>\n",
       "      <td>9.14</td>\n",
       "      <td>21.6</td>\n",
       "    </tr>\n",
       "    <tr>\n",
       "      <th>2</th>\n",
       "      <td>0.02729</td>\n",
       "      <td>0.0</td>\n",
       "      <td>7.07</td>\n",
       "      <td>0</td>\n",
       "      <td>0.469</td>\n",
       "      <td>7.185</td>\n",
       "      <td>61.1</td>\n",
       "      <td>4.9671</td>\n",
       "      <td>2</td>\n",
       "      <td>242</td>\n",
       "      <td>17.8</td>\n",
       "      <td>4.03</td>\n",
       "      <td>34.7</td>\n",
       "    </tr>\n",
       "    <tr>\n",
       "      <th>3</th>\n",
       "      <td>0.03237</td>\n",
       "      <td>0.0</td>\n",
       "      <td>2.18</td>\n",
       "      <td>0</td>\n",
       "      <td>0.458</td>\n",
       "      <td>6.998</td>\n",
       "      <td>45.8</td>\n",
       "      <td>6.0622</td>\n",
       "      <td>3</td>\n",
       "      <td>222</td>\n",
       "      <td>18.7</td>\n",
       "      <td>2.94</td>\n",
       "      <td>33.4</td>\n",
       "    </tr>\n",
       "    <tr>\n",
       "      <th>4</th>\n",
       "      <td>0.06905</td>\n",
       "      <td>0.0</td>\n",
       "      <td>2.18</td>\n",
       "      <td>0</td>\n",
       "      <td>0.458</td>\n",
       "      <td>7.147</td>\n",
       "      <td>54.2</td>\n",
       "      <td>6.0622</td>\n",
       "      <td>3</td>\n",
       "      <td>222</td>\n",
       "      <td>18.7</td>\n",
       "      <td>5.33</td>\n",
       "      <td>36.2</td>\n",
       "    </tr>\n",
       "  </tbody>\n",
       "</table>\n",
       "</div>"
      ],
      "text/plain": [
       "      CRIM    ZN  INDUS  CHAS    NOX     RM   AGE     DIS  RAD  TAX  PTRATIO  \\\n",
       "0  0.00632  18.0   2.31     0  0.538  6.575  65.2  4.0900    1  296     15.3   \n",
       "1  0.02731   0.0   7.07     0  0.469  6.421  78.9  4.9671    2  242     17.8   \n",
       "2  0.02729   0.0   7.07     0  0.469  7.185  61.1  4.9671    2  242     17.8   \n",
       "3  0.03237   0.0   2.18     0  0.458  6.998  45.8  6.0622    3  222     18.7   \n",
       "4  0.06905   0.0   2.18     0  0.458  7.147  54.2  6.0622    3  222     18.7   \n",
       "\n",
       "   LSTAT  MEDV  \n",
       "0   4.98  24.0  \n",
       "1   9.14  21.6  \n",
       "2   4.03  34.7  \n",
       "3   2.94  33.4  \n",
       "4   5.33  36.2  "
      ]
     },
     "execution_count": 20,
     "metadata": {},
     "output_type": "execute_result"
    }
   ],
   "source": [
    "# Boston 데이터 불러오기\n",
    "import pandas as pd\n",
    "house = pd.read_csv(\"BostonHousing.csv\")\n",
    "house.columns = ['CRIM', 'ZN', 'INDUS', 'CHAS', 'NOX', 'RM', 'AGE', 'DIS', 'RAD', 'TAX',\n",
    " 'PTRATIO', 'LSTAT', 'MEDV']\n",
    "house.head()"
   ]
  },
  {
   "cell_type": "code",
   "execution_count": 21,
   "id": "0c16c617",
   "metadata": {},
   "outputs": [
    {
     "data": {
      "application/vnd.plotly.v1+json": {
       "config": {
        "plotlyServerURL": "https://plot.ly"
       },
       "data": [
        {
         "dimensions": [
          {
           "axis": {
            "matches": true
           },
           "label": "LSTAT",
           "values": {
            "bdata": "7FG4HoXrE0BI4XoUrkciQB+F61G4HhBAhetRuB6FB0BSuB6F61EVQNejcD0K1xRAXI/C9SjcKEBmZmZmZiYzQK5H4XoU7j1AmpmZmZkZMUAzMzMzM3M0QArXo3A9iipA7FG4HoVrL0CF61G4HoUgQIXrUbgehSRAcT0K16PwIEBSuB6F61EaQNejcD0KVy1A4XoUrkdhJ0CPwvUoXI8mQIXrUbgeBTVAKVyPwvWoK0C4HoXrUbgyQOF6FK5H4TNAzczMzMxMMEDD9Shcj4IwQB+F61G4ni1ASOF6FK5HMUCamZmZmZkpQPYoXI/C9SdAmpmZmZmZNkAUrkfhehQqQPYoXI/CtTtAmpmZmZlZMkDXo3A9Clc0QFyPwvUoXCNAUrgehevRJkAK16NwPYohQMP1KFyPQiRASOF6FK5HEUCuR+F6FK7/P1yPwvUoXBNAPQrXo3A9F0DD9Shcj8IdQJqZmZmZGSNA7FG4HoVrJEDNzMzMzEwsQM3MzMzMzDJAj8L1KFzPPkAzMzMzMzMwQGZmZmZm5ipAXI/C9SjcIkAfhetRuB4VQFyPwvUo3CBAmpmZmZmZLUA9CtejcD0TQBSuR+F6FBdAmpmZmZmZD0BxPQrXo3AbQHE9CtejcCJAzczMzMxMKkDhehSuR+EsQOxRuB6F6xpAAAAAAAAAI0CamZmZmRkgQK5H4XoUrhJAexSuR+F6JEAzMzMzMzMgQK5H4XoULipAFK5H4XqUIUDhehSuR+EaQMP1KFyPwiNAFK5H4XoUFkApXI/C9SgeQB+F61G4HhtA4XoUrkfhIUBxPQrXo/AnQArXo3A9iiRArkfhehSuKEAzMzMzMzMiQClcj8L1KBVA4XoUrkfhHEDhehSuR+EaQArXo3A9Ch5APQrXo3A9I0AfhetRuB4aQLgehetRuClA4XoUrkfhIEAAAAAAAAAWQM3MzMzMzBZAH4XrUbieIUBmZmZmZmYgQFK4HoXrUSBA16NwPQrXGECuR+F6FC4lQJqZmZmZmRpArkfhehSuJkDXo3A9CtcQQI/C9ShcjwxAw/UoXI/CGEDXo3A9CtciQK5H4XoUrh5Aw/UoXI9CJUDhehSuR+EqQClcj8L1qChAuB6F61F4MEApXI/C9agyQK5H4XoULixACtejcD2KKECamZmZmRkvQAAAAAAAACpAUrgehetRJED2KFyPwjUwQNejcD0KFzFAZmZmZmbmJECF61G4HoUvQBSuR+F6FChAmpmZmZmZJEA9CtejcL0uQLgehetROCtAPQrXo3C9LEAK16NwPYosQK5H4XoU7jFAKVyPwvVoOUAUrkfhepQxQB+F61G4ni1Aw/UoXI9CO0BxPQrXozAxQEjhehSuxy5A16NwPQpXMkAzMzMzMzMpQIXrUbgehShAPQrXo3A9JkCPwvUoXA8uQI/C9ShcTzFA9ihcj8L1MEBmZmZmZuYwQK5H4XoULi1AUrgehetRNUD2KFyPwnUyQClcj8L1KDhAFK5H4Xo0QUBSuB6F69E6QOxRuB6FazpACtejcD1KPUDNzMzMzMw7QGZmZmZmpjBASOF6FK6HPUBSuB6F61E8QDMzMzMzczVAMzMzMzMzLECPwvUoXI8qQD0K16NwPShAFK5H4XqUL0A9CtejcD0uQArXo3A9Ci5ApHA9CtcjMEBcj8L1KFwSQLgehetRuBlAj8L1KFyPHUAAAAAAAAAWQK5H4XoUrvs/uB6F61G4/j+PwvUoXI8KQEjhehSuRydAH4XrUbieI0CamZmZmZkNQEjhehSuRyhAMzMzMzMzJkCkcD0K16MmQFyPwvUo3CxAj8L1KFwPKEDhehSuR2EtQBSuR+F6FCJASOF6FK5HI0BSuB6F61EVQLgehetROCRAKVyPwvUoGUCuR+F6FK4bQClcj8L1KBRAPQrXo3A9HkBmZmZmZuYiQEjhehSuRxNAuB6F61G4FkD2KFyPwvUrQM3MzMzMTCpAzczMzMzMEUC4HoXrUbgaQD0K16NwPRJAj8L1KFyPFUBmZmZmZmYUQMP1KFyPwhJA9ihcj8L1BkAfhetRuB4UQIXrUbgehRFAw/UoXI/CB0BSuB6F61EQQLgehetROCFAexSuR+F6GkA9CtejcD0SQM3MzMzMzBFAuB6F61G4HUDhehSuR+EIQHsUrkfheg5ACtejcD0KB0A9CtejcL0lQHE9Ctej8CVAj8L1KFwPMkBSuB6F61EtQNejcD0KFzdAhetRuB5FMUB7FK5H4fo3QEjhehSuBzBAw/UoXI/CIkDNzMzMzIw9QHE9Ctej8CJAhetRuB4FK0DhehSuR2EjQOxRuB6F6zFAAAAAAAAAJUDsUbgehWsjQPYoXI/CdTVAXI/C9SjcI0BmZmZmZmYeQI/C9ShcjxBAhetRuB6FEkAK16NwPQoJQHE9CtejcBlAXI/C9ShcD0AUrkfhehQOQM3MzMzMTCdAAAAAAAAAFUDD9Shcj8IDQJqZmZmZmQ9AmpmZmZkZIEDD9Shcj8IlQBSuR+F6FCNA7FG4HoXrEkBxPQrXo3AZQHsUrkfheh1Aw/UoXI/CJkDNzMzMzMwoQHE9CtejcCZAw/UoXI/CFEAAAAAAAAApQPYoXI/CdTJAUrgehetRIkDNzMzMzEwkQArXo3A9CiNAPQrXo3A9GkCamZmZmZkXQLgehetRuAxAPQrXo3A9DEBSuB6F61EMQEjhehSuRxpAAAAAAACAIkDhehSuR+EIQHsUrkfhehRAKVyPwvUoH0CamZmZmZkbQK5H4XoULiNACtejcD0KHUCkcD0K16MXQAAAAAAAgCZAMzMzMzMzIEBmZmZmZuYkQBSuR+F6lC1Aw/UoXI/CHUBI4XoUrkcJQM3MzMzMTCtAAAAAAAAAKkBcj8L1KFwaQOxRuB6F6x5AUrgehetRGkA9CtejcD0MQNejcD0K1wdAMzMzMzMzGECkcD0K16MQQMP1KFyPwhxAZmZmZmZmE0AUrkfhehQOQFyPwvUoXBJAFK5H4XoUCEBI4XoUrkcJQGZmZmZmZh9A9ihcj8J1IEBcj8L1KNwpQI/C9ShcjxxAZmZmZmZmHkCF61G4HgUjQKRwPQrXowpAexSuR+F6DEDNzMzMzMwSQClcj8L1KCFAzczMzMzMJEAUrkfhehQZQI/C9Shcjx1ArkfhehSuL0DhehSuR+ETQPYoXI/C9RJASOF6FK5HGEAAAAAAAAAjQNejcD0KVyFAcT0K16NwE0C4HoXrUbgbQFyPwvUo3CFA4XoUrkfhGUAfhetRuB4eQClcj8L1KBJAcT0K16PwI0BI4XoUrkcpQOxRuB6F6xdAcT0K16NwJ0CamZmZmZkfQI/C9ShcjyJAAAAAAAAAJ0AUrkfhelQyQOF6FK5H4S9AuB6F61G4JED2KFyPwnUpQM3MzMzMzBxAexSuR+F6G0DNzMzMzMweQHsUrkfheidAexSuR+F6GEBSuB6F61EUQJqZmZmZmRhAFK5H4XqUKUBxPQrXo/AjQFyPwvUoXB1ArkfhehQuIkBcj8L1KNwoQFK4HoXrUR9AuB6F61G4FkAAAAAAAAAbQIXrUbgeBSBAmpmZmZmZI0AfhetRuB4lQIXrUbgeBSFAexSuR+F6I0AUrkfhepQiQPYoXI/C9RVAzczMzMxMIUC4HoXrUbgcQHE9CtejcBJAj8L1KFwPJUDXo3A9ClcpQHE9CtejcBlA9ihcj8L1F0CPwvUoXI8XQOxRuB6F6xdA9ihcj8L1FUApXI/C9SgfQAAAAAAAABJAmpmZmZkZIEBI4XoUrkcWQJqZmZmZmTFACtejcD2KKkD2KFyPwvUmQNejcD0KVylAKVyPwvUoH0DhehSuR2EsQOF6FK5HYSRASOF6FK5HLUApXI/C9SgVQHsUrkfhehxAAAAAAAAALEApXI/C9agqQBSuR+F6FApA16NwPQrXDUCuR+F6FK4HQI/C9ShcDyNAw/UoXI/CIUDD9Shcj2JBQFyPwvUo/EJA4XoUrkfhKkA9CtejcD03QD0K16NwPTVAcT0K16OwN0BI4XoUrsc1QPYoXI/CNTFAFK5H4XoUNUCamZmZmZk3QI/C9ShcjzhA4XoUrkehPkCPwvUoXM8+QEjhehSuRzxAPQrXo3D9P0AfhetRuJ4+QJqZmZmZ2TRAXI/C9SgcMUDD9Shcj8IyQK5H4XoUrjlA16NwPQpXLkCamZmZmVkwQB+F61G4HjFAH4XrUbheM0DsUbgeheszQNejcD0Klz5AuB6F61H4PUCF61G4HsU6QFK4HoXrUTRAj8L1KFxPNECF61G4HsUzQOF6FK5HYTtAexSuR+H6NkDXo3A9Clc3QMP1KFyPQihAZmZmZmZmOkBI4XoUrsczQLgehetROCRAuB6F61E4NUCPwvUoXC9BQBSuR+F6FDRAPQrXo3B9QkDNzMzMzAw9QArXo3A9yjlApHA9CtejOkAfhetRuJ40QD0K16NwvTZACtejcD0KLkBmZmZmZmYvQDMzMzMzMyxACtejcD1KN0ApXI/C9SgxQKRwPQrXYzhA4XoUrkdhL0AK16NwPQotQIXrUbgehTVAFK5H4XoUOECkcD0K16MxQHE9CtejsDNAj8L1KFwPKEC4HoXrUTgwQNejcD0KVy5AhetRuB5FN0DNzMzMzAwyQDMzMzMzczpAw/UoXI8CQUDhehSuR+E2QFyPwvUoHDZAhetRuB6FM0DXo3A9CpcwQJqZmZmZ2TJACtejcD3KN0B7FK5H4fo3QArXo3A9yjFAcT0K16NwMEDhehSuRyEyQI/C9ShcTzNAcT0K16NwMUB7FK5H4boxQIXrUbgeRTFAPQrXo3C9MED2KFyPwrUyQOF6FK5HITJAw/UoXI8CM0BxPQrXo/AwQHsUrkfhOjBAZmZmZmZmLUDsUbgehWswQM3MzMzMTC1AexSuR+H6K0AUrkfhepQkQHE9CtejcCpAw/UoXI9CLEBmZmZmZiYxQFK4HoXrUTVA4XoUrkchMkCF61G4HoUtQArXo3A9SjBAPQrXo3C9KUC4HoXrUbgsQFK4HoXrUSdApHA9CtcjMkCamZmZmRk4QK5H4XoUrjJAKVyPwvXoOEBI4XoUrgcyQLgehetROCpAexSuR+F6JUD2KFyPwvUeQArXo3A9ChxA16NwPQrXJECuR+F6FK4qQClcj8L1KCVA9ihcj8L1LUBmZmZmZuYmQI/C9ShcDzJAuB6F61H4N0CuR+F6FK49QFK4HoXrETJAMzMzMzOzKkCF61G4HgUoQK5H4XoULitAmpmZmZmZMUCkcD0K1yM1QDMzMzMzMyxA16NwPQrXKUAzMzMzMzMuQClcj8L1qCxA16NwPQpXI0ApXI/C9SgiQI/C9ShcjxZA7FG4HoXrGUCF61G4HoUfQA==",
            "dtype": "f8"
           }
          },
          {
           "axis": {
            "matches": true
           },
           "label": "INDUS",
           "values": {
            "bdata": "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",
            "dtype": "f8"
           }
          },
          {
           "axis": {
            "matches": true
           },
           "label": "NOX",
           "values": {
            "bdata": "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",
            "dtype": "f8"
           }
          },
          {
           "axis": {
            "matches": true
           },
           "label": "RM",
           "values": {
            "bdata": "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",
            "dtype": "f8"
           }
          },
          {
           "axis": {
            "matches": true
           },
           "label": "MEDV",
           "values": {
            "bdata": "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",
            "dtype": "f8"
           }
          }
         ],
         "hovertemplate": "%{xaxis.title.text}=%{x}<br>%{yaxis.title.text}=%{y}<extra></extra>",
         "legendgroup": "",
         "marker": {
          "color": "#636efa",
          "symbol": "circle"
         },
         "name": "",
         "showlegend": false,
         "type": "splom"
        }
       ],
       "layout": {
        "dragmode": "select",
        "legend": {
         "tracegroupgap": 0
        },
        "template": {
         "data": {
          "bar": [
           {
            "error_x": {
             "color": "#2a3f5f"
            },
            "error_y": {
             "color": "#2a3f5f"
            },
            "marker": {
             "line": {
              "color": "#E5ECF6",
              "width": 0.5
             },
             "pattern": {
              "fillmode": "overlay",
              "size": 10,
              "solidity": 0.2
             }
            },
            "type": "bar"
           }
          ],
          "barpolar": [
           {
            "marker": {
             "line": {
              "color": "#E5ECF6",
              "width": 0.5
             },
             "pattern": {
              "fillmode": "overlay",
              "size": 10,
              "solidity": 0.2
             }
            },
            "type": "barpolar"
           }
          ],
          "carpet": [
           {
            "aaxis": {
             "endlinecolor": "#2a3f5f",
             "gridcolor": "white",
             "linecolor": "white",
             "minorgridcolor": "white",
             "startlinecolor": "#2a3f5f"
            },
            "baxis": {
             "endlinecolor": "#2a3f5f",
             "gridcolor": "white",
             "linecolor": "white",
             "minorgridcolor": "white",
             "startlinecolor": "#2a3f5f"
            },
            "type": "carpet"
           }
          ],
          "choropleth": [
           {
            "colorbar": {
             "outlinewidth": 0,
             "ticks": ""
            },
            "type": "choropleth"
           }
          ],
          "contour": [
           {
            "colorbar": {
             "outlinewidth": 0,
             "ticks": ""
            },
            "colorscale": [
             [
              0,
              "#0d0887"
             ],
             [
              0.1111111111111111,
              "#46039f"
             ],
             [
              0.2222222222222222,
              "#7201a8"
             ],
             [
              0.3333333333333333,
              "#9c179e"
             ],
             [
              0.4444444444444444,
              "#bd3786"
             ],
             [
              0.5555555555555556,
              "#d8576b"
             ],
             [
              0.6666666666666666,
              "#ed7953"
             ],
             [
              0.7777777777777778,
              "#fb9f3a"
             ],
             [
              0.8888888888888888,
              "#fdca26"
             ],
             [
              1,
              "#f0f921"
             ]
            ],
            "type": "contour"
           }
          ],
          "contourcarpet": [
           {
            "colorbar": {
             "outlinewidth": 0,
             "ticks": ""
            },
            "type": "contourcarpet"
           }
          ],
          "heatmap": [
           {
            "colorbar": {
             "outlinewidth": 0,
             "ticks": ""
            },
            "colorscale": [
             [
              0,
              "#0d0887"
             ],
             [
              0.1111111111111111,
              "#46039f"
             ],
             [
              0.2222222222222222,
              "#7201a8"
             ],
             [
              0.3333333333333333,
              "#9c179e"
             ],
             [
              0.4444444444444444,
              "#bd3786"
             ],
             [
              0.5555555555555556,
              "#d8576b"
             ],
             [
              0.6666666666666666,
              "#ed7953"
             ],
             [
              0.7777777777777778,
              "#fb9f3a"
             ],
             [
              0.8888888888888888,
              "#fdca26"
             ],
             [
              1,
              "#f0f921"
             ]
            ],
            "type": "heatmap"
           }
          ],
          "histogram": [
           {
            "marker": {
             "pattern": {
              "fillmode": "overlay",
              "size": 10,
              "solidity": 0.2
             }
            },
            "type": "histogram"
           }
          ],
          "histogram2d": [
           {
            "colorbar": {
             "outlinewidth": 0,
             "ticks": ""
            },
            "colorscale": [
             [
              0,
              "#0d0887"
             ],
             [
              0.1111111111111111,
              "#46039f"
             ],
             [
              0.2222222222222222,
              "#7201a8"
             ],
             [
              0.3333333333333333,
              "#9c179e"
             ],
             [
              0.4444444444444444,
              "#bd3786"
             ],
             [
              0.5555555555555556,
              "#d8576b"
             ],
             [
              0.6666666666666666,
              "#ed7953"
             ],
             [
              0.7777777777777778,
              "#fb9f3a"
             ],
             [
              0.8888888888888888,
              "#fdca26"
             ],
             [
              1,
              "#f0f921"
             ]
            ],
            "type": "histogram2d"
           }
          ],
          "histogram2dcontour": [
           {
            "colorbar": {
             "outlinewidth": 0,
             "ticks": ""
            },
            "colorscale": [
             [
              0,
              "#0d0887"
             ],
             [
              0.1111111111111111,
              "#46039f"
             ],
             [
              0.2222222222222222,
              "#7201a8"
             ],
             [
              0.3333333333333333,
              "#9c179e"
             ],
             [
              0.4444444444444444,
              "#bd3786"
             ],
             [
              0.5555555555555556,
              "#d8576b"
             ],
             [
              0.6666666666666666,
              "#ed7953"
             ],
             [
              0.7777777777777778,
              "#fb9f3a"
             ],
             [
              0.8888888888888888,
              "#fdca26"
             ],
             [
              1,
              "#f0f921"
             ]
            ],
            "type": "histogram2dcontour"
           }
          ],
          "mesh3d": [
           {
            "colorbar": {
             "outlinewidth": 0,
             "ticks": ""
            },
            "type": "mesh3d"
           }
          ],
          "parcoords": [
           {
            "line": {
             "colorbar": {
              "outlinewidth": 0,
              "ticks": ""
             }
            },
            "type": "parcoords"
           }
          ],
          "pie": [
           {
            "automargin": true,
            "type": "pie"
           }
          ],
          "scatter": [
           {
            "fillpattern": {
             "fillmode": "overlay",
             "size": 10,
             "solidity": 0.2
            },
            "type": "scatter"
           }
          ],
          "scatter3d": [
           {
            "line": {
             "colorbar": {
              "outlinewidth": 0,
              "ticks": ""
             }
            },
            "marker": {
             "colorbar": {
              "outlinewidth": 0,
              "ticks": ""
             }
            },
            "type": "scatter3d"
           }
          ],
          "scattercarpet": [
           {
            "marker": {
             "colorbar": {
              "outlinewidth": 0,
              "ticks": ""
             }
            },
            "type": "scattercarpet"
           }
          ],
          "scattergeo": [
           {
            "marker": {
             "colorbar": {
              "outlinewidth": 0,
              "ticks": ""
             }
            },
            "type": "scattergeo"
           }
          ],
          "scattergl": [
           {
            "marker": {
             "colorbar": {
              "outlinewidth": 0,
              "ticks": ""
             }
            },
            "type": "scattergl"
           }
          ],
          "scattermap": [
           {
            "marker": {
             "colorbar": {
              "outlinewidth": 0,
              "ticks": ""
             }
            },
            "type": "scattermap"
           }
          ],
          "scattermapbox": [
           {
            "marker": {
             "colorbar": {
              "outlinewidth": 0,
              "ticks": ""
             }
            },
            "type": "scattermapbox"
           }
          ],
          "scatterpolar": [
           {
            "marker": {
             "colorbar": {
              "outlinewidth": 0,
              "ticks": ""
             }
            },
            "type": "scatterpolar"
           }
          ],
          "scatterpolargl": [
           {
            "marker": {
             "colorbar": {
              "outlinewidth": 0,
              "ticks": ""
             }
            },
            "type": "scatterpolargl"
           }
          ],
          "scatterternary": [
           {
            "marker": {
             "colorbar": {
              "outlinewidth": 0,
              "ticks": ""
             }
            },
            "type": "scatterternary"
           }
          ],
          "surface": [
           {
            "colorbar": {
             "outlinewidth": 0,
             "ticks": ""
            },
            "colorscale": [
             [
              0,
              "#0d0887"
             ],
             [
              0.1111111111111111,
              "#46039f"
             ],
             [
              0.2222222222222222,
              "#7201a8"
             ],
             [
              0.3333333333333333,
              "#9c179e"
             ],
             [
              0.4444444444444444,
              "#bd3786"
             ],
             [
              0.5555555555555556,
              "#d8576b"
             ],
             [
              0.6666666666666666,
              "#ed7953"
             ],
             [
              0.7777777777777778,
              "#fb9f3a"
             ],
             [
              0.8888888888888888,
              "#fdca26"
             ],
             [
              1,
              "#f0f921"
             ]
            ],
            "type": "surface"
           }
          ],
          "table": [
           {
            "cells": {
             "fill": {
              "color": "#EBF0F8"
             },
             "line": {
              "color": "white"
             }
            },
            "header": {
             "fill": {
              "color": "#C8D4E3"
             },
             "line": {
              "color": "white"
             }
            },
            "type": "table"
           }
          ]
         },
         "layout": {
          "annotationdefaults": {
           "arrowcolor": "#2a3f5f",
           "arrowhead": 0,
           "arrowwidth": 1
          },
          "autotypenumbers": "strict",
          "coloraxis": {
           "colorbar": {
            "outlinewidth": 0,
            "ticks": ""
           }
          },
          "colorscale": {
           "diverging": [
            [
             0,
             "#8e0152"
            ],
            [
             0.1,
             "#c51b7d"
            ],
            [
             0.2,
             "#de77ae"
            ],
            [
             0.3,
             "#f1b6da"
            ],
            [
             0.4,
             "#fde0ef"
            ],
            [
             0.5,
             "#f7f7f7"
            ],
            [
             0.6,
             "#e6f5d0"
            ],
            [
             0.7,
             "#b8e186"
            ],
            [
             0.8,
             "#7fbc41"
            ],
            [
             0.9,
             "#4d9221"
            ],
            [
             1,
             "#276419"
            ]
           ],
           "sequential": [
            [
             0,
             "#0d0887"
            ],
            [
             0.1111111111111111,
             "#46039f"
            ],
            [
             0.2222222222222222,
             "#7201a8"
            ],
            [
             0.3333333333333333,
             "#9c179e"
            ],
            [
             0.4444444444444444,
             "#bd3786"
            ],
            [
             0.5555555555555556,
             "#d8576b"
            ],
            [
             0.6666666666666666,
             "#ed7953"
            ],
            [
             0.7777777777777778,
             "#fb9f3a"
            ],
            [
             0.8888888888888888,
             "#fdca26"
            ],
            [
             1,
             "#f0f921"
            ]
           ],
           "sequentialminus": [
            [
             0,
             "#0d0887"
            ],
            [
             0.1111111111111111,
             "#46039f"
            ],
            [
             0.2222222222222222,
             "#7201a8"
            ],
            [
             0.3333333333333333,
             "#9c179e"
            ],
            [
             0.4444444444444444,
             "#bd3786"
            ],
            [
             0.5555555555555556,
             "#d8576b"
            ],
            [
             0.6666666666666666,
             "#ed7953"
            ],
            [
             0.7777777777777778,
             "#fb9f3a"
            ],
            [
             0.8888888888888888,
             "#fdca26"
            ],
            [
             1,
             "#f0f921"
            ]
           ]
          },
          "colorway": [
           "#636efa",
           "#EF553B",
           "#00cc96",
           "#ab63fa",
           "#FFA15A",
           "#19d3f3",
           "#FF6692",
           "#B6E880",
           "#FF97FF",
           "#FECB52"
          ],
          "font": {
           "color": "#2a3f5f"
          },
          "geo": {
           "bgcolor": "white",
           "lakecolor": "white",
           "landcolor": "#E5ECF6",
           "showlakes": true,
           "showland": true,
           "subunitcolor": "white"
          },
          "hoverlabel": {
           "align": "left"
          },
          "hovermode": "closest",
          "mapbox": {
           "style": "light"
          },
          "paper_bgcolor": "white",
          "plot_bgcolor": "#E5ECF6",
          "polar": {
           "angularaxis": {
            "gridcolor": "white",
            "linecolor": "white",
            "ticks": ""
           },
           "bgcolor": "#E5ECF6",
           "radialaxis": {
            "gridcolor": "white",
            "linecolor": "white",
            "ticks": ""
           }
          },
          "scene": {
           "xaxis": {
            "backgroundcolor": "#E5ECF6",
            "gridcolor": "white",
            "gridwidth": 2,
            "linecolor": "white",
            "showbackground": true,
            "ticks": "",
            "zerolinecolor": "white"
           },
           "yaxis": {
            "backgroundcolor": "#E5ECF6",
            "gridcolor": "white",
            "gridwidth": 2,
            "linecolor": "white",
            "showbackground": true,
            "ticks": "",
            "zerolinecolor": "white"
           },
           "zaxis": {
            "backgroundcolor": "#E5ECF6",
            "gridcolor": "white",
            "gridwidth": 2,
            "linecolor": "white",
            "showbackground": true,
            "ticks": "",
            "zerolinecolor": "white"
           }
          },
          "shapedefaults": {
           "line": {
            "color": "#2a3f5f"
           }
          },
          "ternary": {
           "aaxis": {
            "gridcolor": "white",
            "linecolor": "white",
            "ticks": ""
           },
           "baxis": {
            "gridcolor": "white",
            "linecolor": "white",
            "ticks": ""
           },
           "bgcolor": "#E5ECF6",
           "caxis": {
            "gridcolor": "white",
            "linecolor": "white",
            "ticks": ""
           }
          },
          "title": {
           "x": 0.05
          },
          "xaxis": {
           "automargin": true,
           "gridcolor": "white",
           "linecolor": "white",
           "ticks": "",
           "title": {
            "standoff": 15
           },
           "zerolinecolor": "white",
           "zerolinewidth": 2
          },
          "yaxis": {
           "automargin": true,
           "gridcolor": "white",
           "linecolor": "white",
           "ticks": "",
           "title": {
            "standoff": 15
           },
           "zerolinecolor": "white",
           "zerolinewidth": 2
          }
         }
        },
        "title": {
         "text": "Scatter Matrix"
        }
       }
      }
     },
     "metadata": {},
     "output_type": "display_data"
    },
    {
     "data": {
      "application/vnd.plotly.v1+json": {
       "config": {
        "plotlyServerURL": "https://plot.ly"
       },
       "data": [
        {
         "dimensions": [
          {
           "axis": {
            "matches": true
           },
           "label": "ZN",
           "values": {
            "bdata": "AAAAAAAAMkAAAAAAAAAAAAAAAAAAAAAAAAAAAAAAAAAAAAAAAAAAAAAAAAAAAAAAAAAAAAAAKUAAAAAAAAApQAAAAAAAAClAAAAAAAAAKUAAAAAAAAApQAAAAAAAAClAAAAAAAAAKUAAAAAAAAAAAAAAAAAAAAAAAAAAAAAAAAAAAAAAAAAAAAAAAAAAAAAAAAAAAAAAAAAAAAAAAAAAAAAAAAAAAAAAAAAAAAAAAAAAAAAAAAAAAAAAAAAAAAAAAAAAAAAAAAAAAAAAAAAAAAAAAAAAAAAAAAAAAAAAAAAAAAAAAAAAAAAAAAAAAAAAAAAAAAAAAAAAAAAAAAAAAAAAAAAAAAAAAAAAAAAAAAAAAAAAAAAAAAAAAAAAAAAAAAAAAAAAAAAAAAAAAAAAAAAAAAAAAAAAAAAAAADAUkAAAAAAAMBSQAAAAAAAAAAAAAAAAAAAAAAAAAAAAAAAAAAAAAAAAAAAAAAAAAAAAAAAAAAAAAAAAAAAAAAAAAAAAAAAAAAAAAAAAAAAAAAAAAAAAAAAADVAAAAAAAAANUAAAAAAAAA1QAAAAAAAADVAAAAAAADAUkAAAAAAAIBWQAAAAAAAQFVAAAAAAAAAWUAAAAAAAAA5QAAAAAAAADlAAAAAAAAAOUAAAAAAAAA5QAAAAAAAADlAAAAAAAAAOUAAAAAAAIAxQAAAAAAAAFRAAAAAAAAAVEAAAAAAAAApQAAAAAAAAClAAAAAAAAAKUAAAAAAAAAAAAAAAAAAAAAAAAAAAAAAAAAAAAAAAAAAAAAAAAAAAAAAAAAAAAAAAAAAAAAAAAAAAAAAAAAAAAAAAAAAAAAAAAAAAAAAAAAAAAAAAAAAADlAAAAAAAAAOUAAAAAAAAA5QAAAAAAAADlAAAAAAAAAAAAAAAAAAAAAAAAAAAAAAAAAAAAAAAAAAAAAAAAAAAAAAAAAAAAAAAAAAAAAAAAAAAAAAAAAAAAAAAAAAAAAADxAAAAAAAAAPEAAAAAAAAA8QAAAAAAAAAAAAAAAAAAAAAAAAAAAAAAAAAAAAAAAAAAAAAAAAAAAAAAAAAAAAAAAAAAAAAAAAAAAAAAAAAAAAAAAAAAAAAAAAAAAAAAAAAAAAAAAAAAAAAAAAAAAAAAAAAAAAAAAAAAAAAAAAAAAAAAAAAAAAAAAAAAAAAAAAAAAAAAAAAAAAAAAAAAAAAAAAAAAAAAAAAAAAAAAAAAAAAAAAAAAAAAAAAAAAAAAAAAAAAAAAAAAAAAAAAAAAAAAAAAAAAAAAAAAAAAAAAAAAAAAAAAAAAAAAAAAAAAAAAAAAAAAAAAAAAAAAAAAAAAAAAAAAAAAAAAAAAAAAAAAAAAAAAAAAAAAAAAAAAAAAAAAAAAAAAAAAAAAAAAAAAAAAAAAAAAAAAAAAAAAAAAAAAAAAAAAAAAAAAAAAAAAAAAAAAAAAAAAAAAAAAAAAAAAAAAAAAAAAAAAAAAAAAAAAAAAAAAAAAAAAAAAAAAAAAAAAAAAAAAAAAAAAAAAAAAAAAAAAAAAAAAAAAAAAAAAAAAAAAAAAAAAAAAAAAAAAAAAAAAAAAAAAAAAAAAAAAAAAAAAAAAAAAAAAAAAAAAAAAAAAAAAAAAAAAAAAAAAAAAAAAAAAAAAAAAAAAAAAAAAAAAAAAAAAAAAAAAAAAAAAAAAAAAAAAAAAAAAAAAAAAAAAAAAAAAAAAAAAAAAAAAAAAAAAAAAAAAAAAAAAAAAAAAAAAAAAAAAAAAAAAAAAAAAAAAAAAAAAAAAAAAAAAAAAAAAAAAAAAAAAAAAAAAAAAAAAAAAAAAAAAAAAAAAAAAAAAAAAAAAAAAAAAAAAAAAAAAAAAAAAAAAAAAAAAAAAAAAAAAAAAAAAAAAAAAAAAAAAAAAAAAAAAAAAAAAAAAAAAAAAAAAAAAAAAAAAAAAAAAAAAAAAAAAAAAAAAAAAAAAAAAAAAAAAAAAAAAAAAAAAAAAAAAAAAAAAAAAAAAAAAAAAAAAAIBGQAAAAAAAgEZAAAAAAACARkAAAAAAAIBGQAAAAAAAgEZAAAAAAACARkAAAAAAAABOQAAAAAAAAE5AAAAAAAAAVEAAAAAAAABUQAAAAAAAAFRAAAAAAAAAVEAAAAAAAMBXQAAAAAAAwFdAAAAAAACgVEAAAAAAAKBUQAAAAAAAwFdAAAAAAADAV0AAAAAAAAAAAAAAAAAAAAAAAAAAAAAAAAAAAAAAAAAAAAAAAAAAAAAAAAAAAAAAAAAAAAAAAAAAAAAAAAAAAAAAAAAAAAAAAAAAAAAAAAAAAAAAAAAAAAAAAAAAAAAAAAAAAAAAAAAAAAAAAAAAAAAAAAAAAAAAAAAAAAAAAAAAAAAAAAAAAAAAAAAAAAAAAAAAAAAAAAAAAAAAAAAAAAAAAAAAAAAAAAAAAAAAAAAAAAAAAAAAAAAAAAAAAAAAAAAAAAAAAAAAAAAAAAAAAAAAAAAAAAAAAAAAAAAAAAAAAAAAAAAAAAAAAAAAAAAAAAAAAAAAAAAAAAAAAAAAAAAAAAAAAAAAAAAAAAAAAAA+QAAAAAAAAD5AAAAAAAAAPkAAAAAAAAA+QAAAAAAAAD5AAAAAAAAAPkAAAAAAAAA2QAAAAAAAADZAAAAAAAAANkAAAAAAAAA2QAAAAAAAADZAAAAAAAAANkAAAAAAAAA2QAAAAAAAADZAAAAAAAAANkAAAAAAAAA2QAAAAAAAAFRAAAAAAAAAVEAAAAAAAIBWQAAAAAAAADRAAAAAAAAANEAAAAAAAAA0QAAAAAAAADRAAAAAAAAANEAAAAAAAAA0QAAAAAAAADRAAAAAAAAANEAAAAAAAAA0QAAAAAAAADRAAAAAAAAANEAAAAAAAAA0QAAAAAAAADRAAAAAAAAANEAAAAAAAAA0QAAAAAAAADRAAAAAAAAANEAAAAAAAABEQAAAAAAAAERAAAAAAAAAREAAAAAAAABEQAAAAAAAAERAAAAAAAAANEAAAAAAAAA0QAAAAAAAADRAAAAAAAAANEAAAAAAAIBWQAAAAAAAgFZAAAAAAACAS0AAAAAAAABUQAAAAAAAQEpAAAAAAABASkAAAAAAAEBKQAAAAAAAAFRAAAAAAAAAVEAAAAAAAABUQAAAAAAAAAAAAAAAAAAAAAAAAAAAAAAAAAAAAAAAAAAAAAAAAAAAAAAAAAAAAIBRQAAAAAAAgFFAAAAAAACAUUAAAAAAAABBQAAAAAAAAEFAAAAAAAAAQUAAAAAAAIBAQAAAAAAAgEBAAAAAAACAQEAAAAAAAIBAQAAAAAAAAAAAAAAAAAAAAAAAAAAAAAAAAAAAAAAAAAAAAAAAAAAAAAAAAAAAAAAAAAAAAAAAAAAAAAAAAAAAAAAAAAAAAAAAAAAAAAAAAAAAAAAAAAAAAAAAAAAAAAAAAAAAAAAAAAAAAAAAAAAAAAAAAAAAAAAAAAAAAAAAAAAAAAAAAAAAAAAAAAAAAAAAAAAAAAAAAAAAAAAAAAAAAAAAAAAAAAAAAAAAAAAAAAAAAAAAAAAAAAAAAAAAAIBBQAAAAAAAgEFAAAAAAAAAAAAAAAAAAAAAAAAAAAAAAAAAAAAAAAAAAAAAAAAAAAAAAAAAAAAAAAAAAAAAAAAAAAAAAAAAAAAAAAAAAAAAgEFAAAAAAAAAAAAAAAAAAIBLQAAAAAAAgEtAAAAAAAAAAAAAAAAAAAAAAAAAAAAAQFVAAAAAAAAAVEAAAAAAAABEQAAAAAAAAERAAAAAAAAATkAAAAAAAABOQAAAAAAAgFZAAAAAAAAAVEAAAAAAAABUQAAAAAAAAAAAAAAAAAAAAAAAAAAAAAAAAAAAAAAAAAAAAAAAAAAAAAAAAAAAAAAAAAAAAAAAAAAAAAAAAAAAAAAAAAAAAAAAAAAAAAAAAAAAAAAAAAAAAAAAAAAAAAAAAAAAAAAAAAAAAAAAAAAAAAAAAAAAAAAAAAAAAAAAAAAAAAAAAAAAAAAAAAAAAAAAAAAAAAAAAAAAAAAAAAAAAAAAAAAAAAAAAAAAAAAAAAAAAAAAAAAAAAAAAAAAAAAAAAAAAAAAAAAAAAAAAAAAAAAAAAAAAAAAAAAAAAAAAAAAAAAAAAAAAAAAAAAAAAAAAAAAAAAAAAAAAAAAAAAAAAAAAAAAAAAAAAAAAAAAAAAAAAAAAAAAAAAAAAAAAAAAAAAAAAAAAAAAAAAAAAAAAAAAAAAAAAAAAAAAAAAAAAAAAAAAAAAAAAAAAAAAAAAAAAAAAAAAAAAAAAAAAAAAAAAAAAAAAAAAAAAAAAAAAAAAAAAAAAAAAAAAAAAAAAAAAAAAAAAAAAAAAAAAAAAAAAAAAAAAAAAAAAAAAAAAAAAAAAAAAAAAAAAAAAAAAAAAAAAAAAAAAAAAAAAAAAAAAAAAAAAAAAAAAAAAAAAAAAAAAAAAAAAAAAAAAAAAAAAAAAAAAAAAAAAAAAAAAAAAAAAAAAAAAAAAAAAAAAAAAAAAAAAAAAAAAAAAAAAAAAAAAAAAAAAAAAAAAAAAAAAAAAAAAAAAAAAAAAAAAAAAAAAAAAAAAAAAAAAAAAAAAAAAAAAAAAAAAAAAAAAAAAAAAAAAAAAAAAAAAAAAAAAAAAAAAAAAAAAAAAAAAAAAAAAAAAAAAAAAAAAAAAAAAAAAAAAAAAAAAAAAAAAAAAAAAAAAAAAAAAAAAAAAAAAAAAAAAAAAAAAAAAAAAAAAAAAAAAAAAAAAAAAAAAAAAAAAAAAAAAAAAAAAAAAAAAAAAAAAAAAAAAAAAAAAAAAAAAAAAAAAAAAAAAAAAAAAAAAAAAAAAAAAAAAAAAAAAAAAAAAAAAAAAAAAAAAAAAAAAAAAAAAAAAAAAAAAAAAAAAAAAAAAAAAAAAAAAAAAAAAAAAAAAAAAAAAAAAAAAAAAAAAAAAAAAAAAAAAAAAAAAAAAAAAAAAAAAAAAAAAAAAAAAAAAAAAAAAAAAAAAAAAAAAAAAAAAAAAAAAAAAAAAAAAAAAAAAAAAAAAAAAAAAAAAAAAAAAAAAAAAAAAAAAAAAAAAAAAAAAAAAAAAAAAAAAAAAAAAAAAAAAAAAAAAAAAAAAAAAAAAAAAAAAAAAAAAAAAAAAAAAAAAAAAAAAAAAAAAAAAAAAAAAAAAAAAAAAAAAAAAAAAAAAAAAAAAAAAAAAAAAAAAAAAAAAAAAAAAAAAAAAAAAAAAAAAAAAAAAAAAAAAAAAAAAAAAAAAAAAAAAAAAAAAAAAAAAAAAAAAAAAAAAAAAAAAAAAAAAAAAAAAAAAAAAAAAAAAAAAAAAAAAAAAAAAAAAAAAAAAAAAAAAAAAAAAAAAAAAAAAAAAAAAAAAAAAAAAAAAAAAAAAAAAAAAAAAAAAAAAAAAAAAAAAAAAAAAAAAAAAAAAAAAAAAAAAAAAAAA==",
            "dtype": "f8"
           }
          },
          {
           "axis": {
            "matches": true
           },
           "label": "AGE",
           "values": {
            "bdata": "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",
            "dtype": "f8"
           }
          },
          {
           "axis": {
            "matches": true
           },
           "label": "DIS",
           "values": {
            "bdata": "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",
            "dtype": "f8"
           }
          },
          {
           "axis": {
            "matches": true
           },
           "label": "TAX",
           "values": {
            "bdata": "KAHyAPIA3gDeAN4ANwE3ATcBNwE3ATcBNwEzATMBMwEzATMBMwEzATMBMwEzATMBMwEzATMBMwEzATMBMwEzATMBMwEzARcBFwEXARcB/AD8AOkA6QDpAOkA6QDpAOkA6QDpAPMA8wDzAPMA1QHiADkBAAEcARwBHAEcARwBHAHYAFEBUQFZAVkBWQExATEBMQExAY4BjgGOAY4BjgGOARkBGQEZARkB9wD3APcA9wAOAQ4BDgEOAQ4BDgEOARQBFAEUARQBFAGAAYABgAGAAYABgAGAAYABgAGAAYABsAGwAbABsAGwAbABsAGwAbABvAC8ALwAvAC8ALwAvAC1AbUBtQG1AbUBtQG1AbUBtQG1AbUBtQG1AbUBtQGTAZMBkwGTAZMBkwGTAZMBkwGTAZMBkwGTAZMBkwGTAZMBkwGTAZMBkwGTAZMBkwGTAZMBkwGTAZMBkwEoASgBKAEoASgBKAEoAcEAwQDBAMEAwQDBAMEAwQCOAY4BjgGOAY4BjgEJAQkB/wBJAUkBSQGSAZIBXAFcAeAA4AAVARUBFQEVARUBFQEVARUBFQEVARUBFAEUARQBFAEzATMBMwEzATMBMwEzATMBMwEzATMBMwEzATMBMwEzATMBMwEsASwBLAEsASwBLAFKAUoBSgFKAUoBSgFKAUoBSgFKATsBOwH0AAgBCAEIAQgBCAEIAQgBCAEIAQgBCAEIAd8A3wDfAN8A3wD+AP4A/gD+AP4A2ADYANgA2ADGAB0BLAHxACUBJQElAfUA9QD1ACEBIQEhASEBIQFmAWYBZgFJAUkBSQHeAN4A3gDeADABMAEwATABMAEwATABMAEwATABMAEwAR8BHwEfAR8BHwEfAR8BHwGuAa4BrgEwATAB4ADgAOAA4ADgAOAA4ADgABwBpgFyAXIBYAFgAV8BGAFPAU8BmwGbAbsATgFOAZoCmgKaApoCmgKaApoCmgKaApoCmgKaApoCmgKaApoCmgKaApoCmgKaApoCmgKaApoCmgKaApoCmgKaApoCmgKaApoCmgKaApoCmgKaApoCmgKaApoCmgKaApoCmgKaApoCmgKaApoCmgKaApoCmgKaApoCmgKaApoCmgKaApoCmgKaApoCmgKaApoCmgKaApoCmgKaApoCmgKaApoCmgKaApoCmgKaApoCmgKaApoCmgKaApoCmgKaApoCmgKaApoCmgKaApoCmgKaApoCmgKaApoCmgKaApoCmgKaApoCmgKaApoCmgKaApoCmgKaApoCmgKaApoCmgKaApoCmgKaApoCmgKaAscCxwLHAscCxwKHAYcBhwGHAYcBhwGHAYcBEQERAREBEQERAQ==",
            "dtype": "i2"
           }
          },
          {
           "axis": {
            "matches": true
           },
           "label": "PTRATIO",
           "values": {
            "bdata": "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",
            "dtype": "f8"
           }
          },
          {
           "axis": {
            "matches": true
           },
           "label": "MEDV",
           "values": {
            "bdata": "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",
            "dtype": "f8"
           }
          }
         ],
         "hovertemplate": "%{xaxis.title.text}=%{x}<br>%{yaxis.title.text}=%{y}<extra></extra>",
         "legendgroup": "",
         "marker": {
          "color": "#636efa",
          "symbol": "circle"
         },
         "name": "",
         "showlegend": false,
         "type": "splom"
        }
       ],
       "layout": {
        "dragmode": "select",
        "legend": {
         "tracegroupgap": 0
        },
        "template": {
         "data": {
          "bar": [
           {
            "error_x": {
             "color": "#2a3f5f"
            },
            "error_y": {
             "color": "#2a3f5f"
            },
            "marker": {
             "line": {
              "color": "#E5ECF6",
              "width": 0.5
             },
             "pattern": {
              "fillmode": "overlay",
              "size": 10,
              "solidity": 0.2
             }
            },
            "type": "bar"
           }
          ],
          "barpolar": [
           {
            "marker": {
             "line": {
              "color": "#E5ECF6",
              "width": 0.5
             },
             "pattern": {
              "fillmode": "overlay",
              "size": 10,
              "solidity": 0.2
             }
            },
            "type": "barpolar"
           }
          ],
          "carpet": [
           {
            "aaxis": {
             "endlinecolor": "#2a3f5f",
             "gridcolor": "white",
             "linecolor": "white",
             "minorgridcolor": "white",
             "startlinecolor": "#2a3f5f"
            },
            "baxis": {
             "endlinecolor": "#2a3f5f",
             "gridcolor": "white",
             "linecolor": "white",
             "minorgridcolor": "white",
             "startlinecolor": "#2a3f5f"
            },
            "type": "carpet"
           }
          ],
          "choropleth": [
           {
            "colorbar": {
             "outlinewidth": 0,
             "ticks": ""
            },
            "type": "choropleth"
           }
          ],
          "contour": [
           {
            "colorbar": {
             "outlinewidth": 0,
             "ticks": ""
            },
            "colorscale": [
             [
              0,
              "#0d0887"
             ],
             [
              0.1111111111111111,
              "#46039f"
             ],
             [
              0.2222222222222222,
              "#7201a8"
             ],
             [
              0.3333333333333333,
              "#9c179e"
             ],
             [
              0.4444444444444444,
              "#bd3786"
             ],
             [
              0.5555555555555556,
              "#d8576b"
             ],
             [
              0.6666666666666666,
              "#ed7953"
             ],
             [
              0.7777777777777778,
              "#fb9f3a"
             ],
             [
              0.8888888888888888,
              "#fdca26"
             ],
             [
              1,
              "#f0f921"
             ]
            ],
            "type": "contour"
           }
          ],
          "contourcarpet": [
           {
            "colorbar": {
             "outlinewidth": 0,
             "ticks": ""
            },
            "type": "contourcarpet"
           }
          ],
          "heatmap": [
           {
            "colorbar": {
             "outlinewidth": 0,
             "ticks": ""
            },
            "colorscale": [
             [
              0,
              "#0d0887"
             ],
             [
              0.1111111111111111,
              "#46039f"
             ],
             [
              0.2222222222222222,
              "#7201a8"
             ],
             [
              0.3333333333333333,
              "#9c179e"
             ],
             [
              0.4444444444444444,
              "#bd3786"
             ],
             [
              0.5555555555555556,
              "#d8576b"
             ],
             [
              0.6666666666666666,
              "#ed7953"
             ],
             [
              0.7777777777777778,
              "#fb9f3a"
             ],
             [
              0.8888888888888888,
              "#fdca26"
             ],
             [
              1,
              "#f0f921"
             ]
            ],
            "type": "heatmap"
           }
          ],
          "histogram": [
           {
            "marker": {
             "pattern": {
              "fillmode": "overlay",
              "size": 10,
              "solidity": 0.2
             }
            },
            "type": "histogram"
           }
          ],
          "histogram2d": [
           {
            "colorbar": {
             "outlinewidth": 0,
             "ticks": ""
            },
            "colorscale": [
             [
              0,
              "#0d0887"
             ],
             [
              0.1111111111111111,
              "#46039f"
             ],
             [
              0.2222222222222222,
              "#7201a8"
             ],
             [
              0.3333333333333333,
              "#9c179e"
             ],
             [
              0.4444444444444444,
              "#bd3786"
             ],
             [
              0.5555555555555556,
              "#d8576b"
             ],
             [
              0.6666666666666666,
              "#ed7953"
             ],
             [
              0.7777777777777778,
              "#fb9f3a"
             ],
             [
              0.8888888888888888,
              "#fdca26"
             ],
             [
              1,
              "#f0f921"
             ]
            ],
            "type": "histogram2d"
           }
          ],
          "histogram2dcontour": [
           {
            "colorbar": {
             "outlinewidth": 0,
             "ticks": ""
            },
            "colorscale": [
             [
              0,
              "#0d0887"
             ],
             [
              0.1111111111111111,
              "#46039f"
             ],
             [
              0.2222222222222222,
              "#7201a8"
             ],
             [
              0.3333333333333333,
              "#9c179e"
             ],
             [
              0.4444444444444444,
              "#bd3786"
             ],
             [
              0.5555555555555556,
              "#d8576b"
             ],
             [
              0.6666666666666666,
              "#ed7953"
             ],
             [
              0.7777777777777778,
              "#fb9f3a"
             ],
             [
              0.8888888888888888,
              "#fdca26"
             ],
             [
              1,
              "#f0f921"
             ]
            ],
            "type": "histogram2dcontour"
           }
          ],
          "mesh3d": [
           {
            "colorbar": {
             "outlinewidth": 0,
             "ticks": ""
            },
            "type": "mesh3d"
           }
          ],
          "parcoords": [
           {
            "line": {
             "colorbar": {
              "outlinewidth": 0,
              "ticks": ""
             }
            },
            "type": "parcoords"
           }
          ],
          "pie": [
           {
            "automargin": true,
            "type": "pie"
           }
          ],
          "scatter": [
           {
            "fillpattern": {
             "fillmode": "overlay",
             "size": 10,
             "solidity": 0.2
            },
            "type": "scatter"
           }
          ],
          "scatter3d": [
           {
            "line": {
             "colorbar": {
              "outlinewidth": 0,
              "ticks": ""
             }
            },
            "marker": {
             "colorbar": {
              "outlinewidth": 0,
              "ticks": ""
             }
            },
            "type": "scatter3d"
           }
          ],
          "scattercarpet": [
           {
            "marker": {
             "colorbar": {
              "outlinewidth": 0,
              "ticks": ""
             }
            },
            "type": "scattercarpet"
           }
          ],
          "scattergeo": [
           {
            "marker": {
             "colorbar": {
              "outlinewidth": 0,
              "ticks": ""
             }
            },
            "type": "scattergeo"
           }
          ],
          "scattergl": [
           {
            "marker": {
             "colorbar": {
              "outlinewidth": 0,
              "ticks": ""
             }
            },
            "type": "scattergl"
           }
          ],
          "scattermap": [
           {
            "marker": {
             "colorbar": {
              "outlinewidth": 0,
              "ticks": ""
             }
            },
            "type": "scattermap"
           }
          ],
          "scattermapbox": [
           {
            "marker": {
             "colorbar": {
              "outlinewidth": 0,
              "ticks": ""
             }
            },
            "type": "scattermapbox"
           }
          ],
          "scatterpolar": [
           {
            "marker": {
             "colorbar": {
              "outlinewidth": 0,
              "ticks": ""
             }
            },
            "type": "scatterpolar"
           }
          ],
          "scatterpolargl": [
           {
            "marker": {
             "colorbar": {
              "outlinewidth": 0,
              "ticks": ""
             }
            },
            "type": "scatterpolargl"
           }
          ],
          "scatterternary": [
           {
            "marker": {
             "colorbar": {
              "outlinewidth": 0,
              "ticks": ""
             }
            },
            "type": "scatterternary"
           }
          ],
          "surface": [
           {
            "colorbar": {
             "outlinewidth": 0,
             "ticks": ""
            },
            "colorscale": [
             [
              0,
              "#0d0887"
             ],
             [
              0.1111111111111111,
              "#46039f"
             ],
             [
              0.2222222222222222,
              "#7201a8"
             ],
             [
              0.3333333333333333,
              "#9c179e"
             ],
             [
              0.4444444444444444,
              "#bd3786"
             ],
             [
              0.5555555555555556,
              "#d8576b"
             ],
             [
              0.6666666666666666,
              "#ed7953"
             ],
             [
              0.7777777777777778,
              "#fb9f3a"
             ],
             [
              0.8888888888888888,
              "#fdca26"
             ],
             [
              1,
              "#f0f921"
             ]
            ],
            "type": "surface"
           }
          ],
          "table": [
           {
            "cells": {
             "fill": {
              "color": "#EBF0F8"
             },
             "line": {
              "color": "white"
             }
            },
            "header": {
             "fill": {
              "color": "#C8D4E3"
             },
             "line": {
              "color": "white"
             }
            },
            "type": "table"
           }
          ]
         },
         "layout": {
          "annotationdefaults": {
           "arrowcolor": "#2a3f5f",
           "arrowhead": 0,
           "arrowwidth": 1
          },
          "autotypenumbers": "strict",
          "coloraxis": {
           "colorbar": {
            "outlinewidth": 0,
            "ticks": ""
           }
          },
          "colorscale": {
           "diverging": [
            [
             0,
             "#8e0152"
            ],
            [
             0.1,
             "#c51b7d"
            ],
            [
             0.2,
             "#de77ae"
            ],
            [
             0.3,
             "#f1b6da"
            ],
            [
             0.4,
             "#fde0ef"
            ],
            [
             0.5,
             "#f7f7f7"
            ],
            [
             0.6,
             "#e6f5d0"
            ],
            [
             0.7,
             "#b8e186"
            ],
            [
             0.8,
             "#7fbc41"
            ],
            [
             0.9,
             "#4d9221"
            ],
            [
             1,
             "#276419"
            ]
           ],
           "sequential": [
            [
             0,
             "#0d0887"
            ],
            [
             0.1111111111111111,
             "#46039f"
            ],
            [
             0.2222222222222222,
             "#7201a8"
            ],
            [
             0.3333333333333333,
             "#9c179e"
            ],
            [
             0.4444444444444444,
             "#bd3786"
            ],
            [
             0.5555555555555556,
             "#d8576b"
            ],
            [
             0.6666666666666666,
             "#ed7953"
            ],
            [
             0.7777777777777778,
             "#fb9f3a"
            ],
            [
             0.8888888888888888,
             "#fdca26"
            ],
            [
             1,
             "#f0f921"
            ]
           ],
           "sequentialminus": [
            [
             0,
             "#0d0887"
            ],
            [
             0.1111111111111111,
             "#46039f"
            ],
            [
             0.2222222222222222,
             "#7201a8"
            ],
            [
             0.3333333333333333,
             "#9c179e"
            ],
            [
             0.4444444444444444,
             "#bd3786"
            ],
            [
             0.5555555555555556,
             "#d8576b"
            ],
            [
             0.6666666666666666,
             "#ed7953"
            ],
            [
             0.7777777777777778,
             "#fb9f3a"
            ],
            [
             0.8888888888888888,
             "#fdca26"
            ],
            [
             1,
             "#f0f921"
            ]
           ]
          },
          "colorway": [
           "#636efa",
           "#EF553B",
           "#00cc96",
           "#ab63fa",
           "#FFA15A",
           "#19d3f3",
           "#FF6692",
           "#B6E880",
           "#FF97FF",
           "#FECB52"
          ],
          "font": {
           "color": "#2a3f5f"
          },
          "geo": {
           "bgcolor": "white",
           "lakecolor": "white",
           "landcolor": "#E5ECF6",
           "showlakes": true,
           "showland": true,
           "subunitcolor": "white"
          },
          "hoverlabel": {
           "align": "left"
          },
          "hovermode": "closest",
          "mapbox": {
           "style": "light"
          },
          "paper_bgcolor": "white",
          "plot_bgcolor": "#E5ECF6",
          "polar": {
           "angularaxis": {
            "gridcolor": "white",
            "linecolor": "white",
            "ticks": ""
           },
           "bgcolor": "#E5ECF6",
           "radialaxis": {
            "gridcolor": "white",
            "linecolor": "white",
            "ticks": ""
           }
          },
          "scene": {
           "xaxis": {
            "backgroundcolor": "#E5ECF6",
            "gridcolor": "white",
            "gridwidth": 2,
            "linecolor": "white",
            "showbackground": true,
            "ticks": "",
            "zerolinecolor": "white"
           },
           "yaxis": {
            "backgroundcolor": "#E5ECF6",
            "gridcolor": "white",
            "gridwidth": 2,
            "linecolor": "white",
            "showbackground": true,
            "ticks": "",
            "zerolinecolor": "white"
           },
           "zaxis": {
            "backgroundcolor": "#E5ECF6",
            "gridcolor": "white",
            "gridwidth": 2,
            "linecolor": "white",
            "showbackground": true,
            "ticks": "",
            "zerolinecolor": "white"
           }
          },
          "shapedefaults": {
           "line": {
            "color": "#2a3f5f"
           }
          },
          "ternary": {
           "aaxis": {
            "gridcolor": "white",
            "linecolor": "white",
            "ticks": ""
           },
           "baxis": {
            "gridcolor": "white",
            "linecolor": "white",
            "ticks": ""
           },
           "bgcolor": "#E5ECF6",
           "caxis": {
            "gridcolor": "white",
            "linecolor": "white",
            "ticks": ""
           }
          },
          "title": {
           "x": 0.05
          },
          "xaxis": {
           "automargin": true,
           "gridcolor": "white",
           "linecolor": "white",
           "ticks": "",
           "title": {
            "standoff": 15
           },
           "zerolinecolor": "white",
           "zerolinewidth": 2
          },
          "yaxis": {
           "automargin": true,
           "gridcolor": "white",
           "linecolor": "white",
           "ticks": "",
           "title": {
            "standoff": 15
           },
           "zerolinecolor": "white",
           "zerolinewidth": 2
          }
         }
        },
        "title": {
         "text": "Scatter Matrix"
        }
       }
      }
     },
     "metadata": {},
     "output_type": "display_data"
    }
   ],
   "source": [
    "# Scatter Plot 행렬 구하기\n",
    "import plotly.express as px\n",
    "fig = px.scatter_matrix(house, dimensions=['LSTAT', 'INDUS', 'NOX', 'RM', 'MEDV'],\n",
    "title='Scatter Matrix')\n",
    "fig.show()\n",
    "fig = px.scatter_matrix(house, dimensions=['ZN', 'AGE', 'DIS', 'TAX', 'PTRATIO', 'MEDV'],\n",
    "title='Scatter Matrix')\n",
    "fig.show()"
   ]
  },
  {
   "cell_type": "code",
   "execution_count": 22,
   "id": "4ad0c532",
   "metadata": {},
   "outputs": [
    {
     "name": "stdout",
     "output_type": "stream",
     "text": [
      "[[ 1.          0.60379972  0.59087892 -0.61380827 -0.73766273]\n",
      " [ 0.60379972  1.          0.76365145 -0.39167585 -0.48372516]\n",
      " [ 0.59087892  0.76365145  1.         -0.30218819 -0.42732077]\n",
      " [-0.61380827 -0.39167585 -0.30218819  1.          0.69535995]\n",
      " [-0.73766273 -0.48372516 -0.42732077  0.69535995  1.        ]]\n",
      "[[ 1.         -0.56953734  0.66440822 -0.31456332 -0.39167855  0.36044534]\n",
      " [-0.56953734  1.         -0.74788054  0.50645559  0.26151501 -0.37695457]\n",
      " [ 0.66440822 -0.74788054  1.         -0.53443158 -0.23247054  0.24992873]\n",
      " [-0.31456332  0.50645559 -0.53443158  1.          0.46085304 -0.46853593]\n",
      " [-0.39167855  0.26151501 -0.23247054  0.46085304  1.         -0.50778669]\n",
      " [ 0.36044534 -0.37695457  0.24992873 -0.46853593 -0.50778669  1.        ]]\n"
     ]
    }
   ],
   "source": [
    "# 상관계수 계산\n",
    "import numpy as np\n",
    "\n",
    "col1 = ['LSTAT', 'INDUS', 'NOX', 'RM', 'MEDV']\n",
    "col2 = ['ZN', 'AGE', 'DIS', 'TAX', 'PTRATIO', 'MEDV']\n",
    "\n",
    "cm1 = np.corrcoef(house[col1].values.T)\n",
    "cm2 = np.corrcoef(house[col2].values.T)\n",
    "print(cm1)\n",
    "print(cm2)"
   ]
  },
  {
   "cell_type": "code",
   "execution_count": 23,
   "id": "16e8523f",
   "metadata": {},
   "outputs": [
    {
     "data": {
      "text/html": [
       "<div>\n",
       "<style scoped>\n",
       "    .dataframe tbody tr th:only-of-type {\n",
       "        vertical-align: middle;\n",
       "    }\n",
       "\n",
       "    .dataframe tbody tr th {\n",
       "        vertical-align: top;\n",
       "    }\n",
       "\n",
       "    .dataframe thead th {\n",
       "        text-align: right;\n",
       "    }\n",
       "</style>\n",
       "<table border=\"1\" class=\"dataframe\">\n",
       "  <thead>\n",
       "    <tr style=\"text-align: right;\">\n",
       "      <th></th>\n",
       "      <th>CRIM</th>\n",
       "      <th>ZN</th>\n",
       "      <th>INDUS</th>\n",
       "      <th>CHAS</th>\n",
       "      <th>NOX</th>\n",
       "      <th>RM</th>\n",
       "      <th>AGE</th>\n",
       "      <th>DIS</th>\n",
       "      <th>RAD</th>\n",
       "      <th>TAX</th>\n",
       "      <th>PTRATIO</th>\n",
       "      <th>LSTAT</th>\n",
       "      <th>MEDV</th>\n",
       "      <th>LLSTAT</th>\n",
       "      <th>LINDUS</th>\n",
       "    </tr>\n",
       "  </thead>\n",
       "  <tbody>\n",
       "    <tr>\n",
       "      <th>0</th>\n",
       "      <td>0.00632</td>\n",
       "      <td>18.0</td>\n",
       "      <td>2.31</td>\n",
       "      <td>0</td>\n",
       "      <td>0.538</td>\n",
       "      <td>6.575</td>\n",
       "      <td>65.2</td>\n",
       "      <td>4.0900</td>\n",
       "      <td>1</td>\n",
       "      <td>296</td>\n",
       "      <td>15.3</td>\n",
       "      <td>4.98</td>\n",
       "      <td>24.0</td>\n",
       "      <td>1.605430</td>\n",
       "      <td>0.837248</td>\n",
       "    </tr>\n",
       "    <tr>\n",
       "      <th>1</th>\n",
       "      <td>0.02731</td>\n",
       "      <td>0.0</td>\n",
       "      <td>7.07</td>\n",
       "      <td>0</td>\n",
       "      <td>0.469</td>\n",
       "      <td>6.421</td>\n",
       "      <td>78.9</td>\n",
       "      <td>4.9671</td>\n",
       "      <td>2</td>\n",
       "      <td>242</td>\n",
       "      <td>17.8</td>\n",
       "      <td>9.14</td>\n",
       "      <td>21.6</td>\n",
       "      <td>2.212660</td>\n",
       "      <td>1.955860</td>\n",
       "    </tr>\n",
       "    <tr>\n",
       "      <th>2</th>\n",
       "      <td>0.02729</td>\n",
       "      <td>0.0</td>\n",
       "      <td>7.07</td>\n",
       "      <td>0</td>\n",
       "      <td>0.469</td>\n",
       "      <td>7.185</td>\n",
       "      <td>61.1</td>\n",
       "      <td>4.9671</td>\n",
       "      <td>2</td>\n",
       "      <td>242</td>\n",
       "      <td>17.8</td>\n",
       "      <td>4.03</td>\n",
       "      <td>34.7</td>\n",
       "      <td>1.393766</td>\n",
       "      <td>1.955860</td>\n",
       "    </tr>\n",
       "    <tr>\n",
       "      <th>3</th>\n",
       "      <td>0.03237</td>\n",
       "      <td>0.0</td>\n",
       "      <td>2.18</td>\n",
       "      <td>0</td>\n",
       "      <td>0.458</td>\n",
       "      <td>6.998</td>\n",
       "      <td>45.8</td>\n",
       "      <td>6.0622</td>\n",
       "      <td>3</td>\n",
       "      <td>222</td>\n",
       "      <td>18.7</td>\n",
       "      <td>2.94</td>\n",
       "      <td>33.4</td>\n",
       "      <td>1.078410</td>\n",
       "      <td>0.779325</td>\n",
       "    </tr>\n",
       "    <tr>\n",
       "      <th>4</th>\n",
       "      <td>0.06905</td>\n",
       "      <td>0.0</td>\n",
       "      <td>2.18</td>\n",
       "      <td>0</td>\n",
       "      <td>0.458</td>\n",
       "      <td>7.147</td>\n",
       "      <td>54.2</td>\n",
       "      <td>6.0622</td>\n",
       "      <td>3</td>\n",
       "      <td>222</td>\n",
       "      <td>18.7</td>\n",
       "      <td>5.33</td>\n",
       "      <td>36.2</td>\n",
       "      <td>1.673351</td>\n",
       "      <td>0.779325</td>\n",
       "    </tr>\n",
       "  </tbody>\n",
       "</table>\n",
       "</div>"
      ],
      "text/plain": [
       "      CRIM    ZN  INDUS  CHAS    NOX     RM   AGE     DIS  RAD  TAX  PTRATIO  \\\n",
       "0  0.00632  18.0   2.31     0  0.538  6.575  65.2  4.0900    1  296     15.3   \n",
       "1  0.02731   0.0   7.07     0  0.469  6.421  78.9  4.9671    2  242     17.8   \n",
       "2  0.02729   0.0   7.07     0  0.469  7.185  61.1  4.9671    2  242     17.8   \n",
       "3  0.03237   0.0   2.18     0  0.458  6.998  45.8  6.0622    3  222     18.7   \n",
       "4  0.06905   0.0   2.18     0  0.458  7.147  54.2  6.0622    3  222     18.7   \n",
       "\n",
       "   LSTAT  MEDV    LLSTAT    LINDUS  \n",
       "0   4.98  24.0  1.605430  0.837248  \n",
       "1   9.14  21.6  2.212660  1.955860  \n",
       "2   4.03  34.7  1.393766  1.955860  \n",
       "3   2.94  33.4  1.078410  0.779325  \n",
       "4   5.33  36.2  1.673351  0.779325  "
      ]
     },
     "execution_count": 23,
     "metadata": {},
     "output_type": "execute_result"
    }
   ],
   "source": [
    "# 특성 변수 로그 변환\n",
    "import numpy as np\n",
    "\n",
    "house['LLSTAT'] = np.log(house['LSTAT'])\n",
    "house['LINDUS'] = np.log(house['INDUS'])\n",
    "house.head()"
   ]
  },
  {
   "cell_type": "code",
   "execution_count": 24,
   "id": "29b8dcc8",
   "metadata": {},
   "outputs": [
    {
     "name": "stdout",
     "output_type": "stream",
     "text": [
      "Slope: [-1.49431476e-01  3.10090136e-02  2.58695952e+00 -1.76444484e+01\n",
      "  1.16042961e+00  3.15997656e-02 -1.29747125e+00  2.55714669e-01\n",
      " -6.70108437e-03 -8.14141039e-01 -1.01287282e+01 -6.32176434e-01]\n",
      "Intercept: 68.59687641998106\n"
     ]
    }
   ],
   "source": [
    "# 선형회귀분석 적용\n",
    "y = house['MEDV'].values\n",
    "house = house.drop(['LSTAT', 'INDUS', 'MEDV'], axis=1)\n",
    "X = house.values\n",
    "\n",
    "from sklearn.model_selection import train_test_split\n",
    "X_train, X_test, y_train, y_test = train_test_split(X, y, test_size=0.3, random_state=1)\n",
    "\n",
    "from sklearn.linear_model import LinearRegression\n",
    "mlr = LinearRegression()\n",
    "mlr.fit(X_train, y_train)\n",
    "\n",
    "print('Slope:', mlr.coef_)\n",
    "print('Intercept:', mlr.intercept_)"
   ]
  },
  {
   "cell_type": "code",
   "execution_count": 25,
   "id": "b7845df5",
   "metadata": {},
   "outputs": [
    {
     "data": {
      "application/vnd.plotly.v1+json": {
       "config": {
        "plotlyServerURL": "https://plot.ly"
       },
       "data": [
        {
         "mode": "markers",
         "name": "Training data",
         "type": "scatter",
         "x": {
          "bdata": "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",
          "dtype": "f8"
         },
         "y": {
          "bdata": "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",
          "dtype": "f8"
         }
        },
        {
         "mode": "markers",
         "name": "Test data",
         "type": "scatter",
         "x": {
          "bdata": "WrjoKH+0P0Dg8UTUa4k7QOIlcN9wqzBAEMM72T/SNUAAwGYV9OA0QIDFZkr1czNA1OQdK9JWQECqevzVJDkyQMxzGMpXxDZAGh0Zr3jhOkB4MXdFhuc6QHgMvgZ4Yj5AdNEFe0FNNEAQMD+csX44QDK+S/0lwTZAuN+PQ6FNNUAI46fdJdotQBj4C8a94UJAzuMRD8aBPUBgP4mjrVEkQJJpREVevDRAoPCWko7fMEBoIHCAqKM4QPhF2dsDODpAfM1OBlZOQEDInudAE1cpQMAhJvH5TCxAJnQbrrY6MUBAirxtWDxBQAi/rQ7zmC1AgrvEISHbN0A4hmAfTdoqQN62U8NwDUZANoGuYD2NMED6hNnhikg2QMz//VqQyDJAjOZb4rKOMEA4ikL+d0I9QBTja7NNmCdAOB5TaS11MkCkPBYR3gs5QMQ+5EkDnTZAtMO6yVmsPUC8KyWdJ70vQMQLgf+LwTFAmGFhTRfaK0BO9e5U6O5HQISgyR8C+zBAbDQgLoskOkA+qsIPTWM2QDAomfLUiTZABDrvAMpkNkC2HEDOas48QFYoplfQkjlAIJtY2sKoH0BoqRIolWE5QBCG9ZTeSyZAxBcqtT2rPECGQpYGoVUwQI9oyjXftEJAvEJPBAtqMkCku7F8SXg8QMAx5wOK/C9AVvYo5CfGMkAoDmZUBjEkQDCpH7BAJEFAoBtPmQYLRUDomSVKcQY3QAxLgLZHuDZADHXJrfwBOECGvrFCy8w4QOgPD6BBmiFAcJ2Fh8pqMkBUTyGiTFkzQAS7o67o/DNAGLWc9xYXNUD5voCCJ5JEQDjp+EwnYTpA3g55xOfoOUB4mKFogBxCQEChf15G9zBAFOKhjWYGOECq9GLp7iZBQPhrsKgJoypA8rjSXIKAN0A4tnQjJZ8/QHRlxY0gBTBA0rUtsSlxOkBaCQKpB3syQGwMQLYs3C5AeH+HgGrgPEAj8WTDpd1DQJB+ga8E6StAPPzuZ/eUNUCgdrB/WRstQNZ4ATr6jzRAYgNsvBjgNUAGrKPXwho7QBo2qECgH0NA/M7jGewPM0Ds974PMgsyQLD5wr/MpS9AyMPOaDU0OkCmynic5tU2QEBEqS/lkSNA7PNvy3OfM0Dc4RceopgxQI03fOU+0EFAsBx/8nhaN0Bgx4UamIQ5QAQR1Q1h/0RAIBwXUJTZPECIRItaZfEtQIzz5PWbB0FARk1XAVcWQUBMV3FZPOZCQLQo3iGR3zRA7OLYnnwvMUD+eoMw4MpEQCKs0AleqEFAGFxJH0WtNUDwTMJjCbwvQOj4wZv/ojxAxDixmGAfMkAa8XIzRBs4QPT9vD9dFzRAQK2t2scMOEC6TXJLcHQ2QGRVa7FoJjdACB6LFYuBPUC4A+kSp2IyQCQ9TrGRwjZAOuSYQu3SPEDwjpydY00nQCb9b4VTZTtAcEvtWY77PkCIJ0W89+UsQIiBoDb6gC5AbDjH4LP8P0BgWtWb2cIcQIDISd4lnTRAIBKMWyPZLUB4SOL5S+UwQNzEfAKkTDxAVhEA5htKQkC0hs+n9dYzQCydUlE6OzlA4N32CgyyMEBEk3VhSdo9QOi6AyYR5DFA+Mhw80gUP0C844v5lJ4rQA==",
          "dtype": "f8"
         },
         "y": {
          "bdata": "OCmsrV8KDEDQW/RuKxgNQABIjNZF17E/AHgeYhPgxr8AM/OZSCe0PwDUyaxVYAzACI1Vv/ccE0BQ1eOvJskNQMA8h6F8RfQ/AA7+VXwfEUAo8h+SmKIJQGDXpI5lF+q/cEqQ40oH8D+oJmPXLGEUQGC+Krf81QpAuBpaixRjGsDYsdiGyGrwP6Af0OcIeSjA0Cjh1bGgFUCm51MfC8MRwHzZREisJBJAaHDVj09f9D9gc2p0dtvqP4BflL09gPM/8DU7GVg5IkBcCpxO83oRQAAcYhKfz+Q/gPYieVRS0b80CkF80UEhwCD8tjrMYwpAAAxv6js8z7+Q8z7BZUsUwBBJYuV5lBfA5DynOB6dD0BowWWo8N0DQNAACJS+3RbAWAJYv8eE+j/wo8LT7MIbwIDcdLCMP7q/QGzPCIaN5L9QGOW7I5IDQBC5EGsBnf4/gHm19/NP27+ISC4OOI4EQFSROy+TPwlAlikpAZUaFkAgqxCxehEBwES1WbI7HxFAwEYD4rJI8j8ghUixm00OQHSSzmjfCx3AgGgD3mbLyD8Ag+kMmze7P5C4la04YPw/wGi5gXG0x7+osfumD3MJQO3Yt/aJZBNAqPhBbpBGGkCg15uW76Xyv1z3b8IcxiXAkPjAEX1t+z+gIIIx/ur9P4BjzgcU+R1AWNmjkJ8YEUA+WAASYDUrwKAGn5eOVQfAAAPB2n+22D+gZ5YoxRkaQJB90TRIUfA/kB1kqZfs9D9g6BsrtMz8P8CAh//yLfu/sEcG997cC8DACuvdNWv6v4DYqvBtX9q/oPYCprq25r8cBP31YbchwOCk4zOdhBFAiBBivdfgBEDAvZm4vzzxvwDsBRiai/C/hLu6ac1ME0BAog90EhHjv4BqMA6S4bS/gFGKzX5D4z9wbOlGSj4iQKArK24EKQhAgMNBeQF5/T+ARp4abh3HPyCbzPMZXAXASGSEaBDoE0B0O2zyaIkkwKBryYkvutY/oKJ25+8W9b9Mp47LMjoNQAAnsTk9mfo/gGBMP7XJ4L+AFvXEcdEQQGCC8S0xNhrAuCF7yjgaBcDkEi9y+18fQGCcxV7+H9s/YN8+gBPt7D/AiQAVjLndv2Z3CyX7rQRAcPQzfPY7+b+kupKru5UXQDTe8JX7QCFAqPNpnIL8GMAAFEev/Gzvv4DfXUXeE/i/GAr22er/FEAgEi1qlcUPQEAWcKwwGuU/QFcW1R81/b8gg8THJGH2P0CL4h0S+f0/OILSorQdCMBYPoLqZ70aQHhPvdiHXi3AWHrkk8IDA0AwAlhvyfPuP3D6QhEwSwBAINpS21xw/L9gdjsrEzHmv/BTYzdfvfG/AG2jI7owwz8AQosda639PwCUd6Mvnqk/gOCxWLEY+D+AxG/RjtX5v4Ad1xL6wdW/0CHHFGqXDkBQRLG56Tf/PwC2TPho9wtAqDix/ix4FMDY1cJ7V8nwP4hs6EBPagRAgFEWsGNAH8B0foj7f60JwAAwd4ElYow/6B02+NgBB8BAvO0woNUEwKRGJj3DZRJAWEUAmG8oIEBkGPWTXNcRwPAFXUjY5vY/0N0VdWw8A8DgzfKwLz73P8Ao4s923wTAoB7gyh7EBcBAxEFnsBbmvw==",
          "dtype": "f8"
         }
        }
       ],
       "layout": {
        "height": 400,
        "template": {
         "data": {
          "bar": [
           {
            "error_x": {
             "color": "#2a3f5f"
            },
            "error_y": {
             "color": "#2a3f5f"
            },
            "marker": {
             "line": {
              "color": "#E5ECF6",
              "width": 0.5
             },
             "pattern": {
              "fillmode": "overlay",
              "size": 10,
              "solidity": 0.2
             }
            },
            "type": "bar"
           }
          ],
          "barpolar": [
           {
            "marker": {
             "line": {
              "color": "#E5ECF6",
              "width": 0.5
             },
             "pattern": {
              "fillmode": "overlay",
              "size": 10,
              "solidity": 0.2
             }
            },
            "type": "barpolar"
           }
          ],
          "carpet": [
           {
            "aaxis": {
             "endlinecolor": "#2a3f5f",
             "gridcolor": "white",
             "linecolor": "white",
             "minorgridcolor": "white",
             "startlinecolor": "#2a3f5f"
            },
            "baxis": {
             "endlinecolor": "#2a3f5f",
             "gridcolor": "white",
             "linecolor": "white",
             "minorgridcolor": "white",
             "startlinecolor": "#2a3f5f"
            },
            "type": "carpet"
           }
          ],
          "choropleth": [
           {
            "colorbar": {
             "outlinewidth": 0,
             "ticks": ""
            },
            "type": "choropleth"
           }
          ],
          "contour": [
           {
            "colorbar": {
             "outlinewidth": 0,
             "ticks": ""
            },
            "colorscale": [
             [
              0,
              "#0d0887"
             ],
             [
              0.1111111111111111,
              "#46039f"
             ],
             [
              0.2222222222222222,
              "#7201a8"
             ],
             [
              0.3333333333333333,
              "#9c179e"
             ],
             [
              0.4444444444444444,
              "#bd3786"
             ],
             [
              0.5555555555555556,
              "#d8576b"
             ],
             [
              0.6666666666666666,
              "#ed7953"
             ],
             [
              0.7777777777777778,
              "#fb9f3a"
             ],
             [
              0.8888888888888888,
              "#fdca26"
             ],
             [
              1,
              "#f0f921"
             ]
            ],
            "type": "contour"
           }
          ],
          "contourcarpet": [
           {
            "colorbar": {
             "outlinewidth": 0,
             "ticks": ""
            },
            "type": "contourcarpet"
           }
          ],
          "heatmap": [
           {
            "colorbar": {
             "outlinewidth": 0,
             "ticks": ""
            },
            "colorscale": [
             [
              0,
              "#0d0887"
             ],
             [
              0.1111111111111111,
              "#46039f"
             ],
             [
              0.2222222222222222,
              "#7201a8"
             ],
             [
              0.3333333333333333,
              "#9c179e"
             ],
             [
              0.4444444444444444,
              "#bd3786"
             ],
             [
              0.5555555555555556,
              "#d8576b"
             ],
             [
              0.6666666666666666,
              "#ed7953"
             ],
             [
              0.7777777777777778,
              "#fb9f3a"
             ],
             [
              0.8888888888888888,
              "#fdca26"
             ],
             [
              1,
              "#f0f921"
             ]
            ],
            "type": "heatmap"
           }
          ],
          "histogram": [
           {
            "marker": {
             "pattern": {
              "fillmode": "overlay",
              "size": 10,
              "solidity": 0.2
             }
            },
            "type": "histogram"
           }
          ],
          "histogram2d": [
           {
            "colorbar": {
             "outlinewidth": 0,
             "ticks": ""
            },
            "colorscale": [
             [
              0,
              "#0d0887"
             ],
             [
              0.1111111111111111,
              "#46039f"
             ],
             [
              0.2222222222222222,
              "#7201a8"
             ],
             [
              0.3333333333333333,
              "#9c179e"
             ],
             [
              0.4444444444444444,
              "#bd3786"
             ],
             [
              0.5555555555555556,
              "#d8576b"
             ],
             [
              0.6666666666666666,
              "#ed7953"
             ],
             [
              0.7777777777777778,
              "#fb9f3a"
             ],
             [
              0.8888888888888888,
              "#fdca26"
             ],
             [
              1,
              "#f0f921"
             ]
            ],
            "type": "histogram2d"
           }
          ],
          "histogram2dcontour": [
           {
            "colorbar": {
             "outlinewidth": 0,
             "ticks": ""
            },
            "colorscale": [
             [
              0,
              "#0d0887"
             ],
             [
              0.1111111111111111,
              "#46039f"
             ],
             [
              0.2222222222222222,
              "#7201a8"
             ],
             [
              0.3333333333333333,
              "#9c179e"
             ],
             [
              0.4444444444444444,
              "#bd3786"
             ],
             [
              0.5555555555555556,
              "#d8576b"
             ],
             [
              0.6666666666666666,
              "#ed7953"
             ],
             [
              0.7777777777777778,
              "#fb9f3a"
             ],
             [
              0.8888888888888888,
              "#fdca26"
             ],
             [
              1,
              "#f0f921"
             ]
            ],
            "type": "histogram2dcontour"
           }
          ],
          "mesh3d": [
           {
            "colorbar": {
             "outlinewidth": 0,
             "ticks": ""
            },
            "type": "mesh3d"
           }
          ],
          "parcoords": [
           {
            "line": {
             "colorbar": {
              "outlinewidth": 0,
              "ticks": ""
             }
            },
            "type": "parcoords"
           }
          ],
          "pie": [
           {
            "automargin": true,
            "type": "pie"
           }
          ],
          "scatter": [
           {
            "fillpattern": {
             "fillmode": "overlay",
             "size": 10,
             "solidity": 0.2
            },
            "type": "scatter"
           }
          ],
          "scatter3d": [
           {
            "line": {
             "colorbar": {
              "outlinewidth": 0,
              "ticks": ""
             }
            },
            "marker": {
             "colorbar": {
              "outlinewidth": 0,
              "ticks": ""
             }
            },
            "type": "scatter3d"
           }
          ],
          "scattercarpet": [
           {
            "marker": {
             "colorbar": {
              "outlinewidth": 0,
              "ticks": ""
             }
            },
            "type": "scattercarpet"
           }
          ],
          "scattergeo": [
           {
            "marker": {
             "colorbar": {
              "outlinewidth": 0,
              "ticks": ""
             }
            },
            "type": "scattergeo"
           }
          ],
          "scattergl": [
           {
            "marker": {
             "colorbar": {
              "outlinewidth": 0,
              "ticks": ""
             }
            },
            "type": "scattergl"
           }
          ],
          "scattermap": [
           {
            "marker": {
             "colorbar": {
              "outlinewidth": 0,
              "ticks": ""
             }
            },
            "type": "scattermap"
           }
          ],
          "scattermapbox": [
           {
            "marker": {
             "colorbar": {
              "outlinewidth": 0,
              "ticks": ""
             }
            },
            "type": "scattermapbox"
           }
          ],
          "scatterpolar": [
           {
            "marker": {
             "colorbar": {
              "outlinewidth": 0,
              "ticks": ""
             }
            },
            "type": "scatterpolar"
           }
          ],
          "scatterpolargl": [
           {
            "marker": {
             "colorbar": {
              "outlinewidth": 0,
              "ticks": ""
             }
            },
            "type": "scatterpolargl"
           }
          ],
          "scatterternary": [
           {
            "marker": {
             "colorbar": {
              "outlinewidth": 0,
              "ticks": ""
             }
            },
            "type": "scatterternary"
           }
          ],
          "surface": [
           {
            "colorbar": {
             "outlinewidth": 0,
             "ticks": ""
            },
            "colorscale": [
             [
              0,
              "#0d0887"
             ],
             [
              0.1111111111111111,
              "#46039f"
             ],
             [
              0.2222222222222222,
              "#7201a8"
             ],
             [
              0.3333333333333333,
              "#9c179e"
             ],
             [
              0.4444444444444444,
              "#bd3786"
             ],
             [
              0.5555555555555556,
              "#d8576b"
             ],
             [
              0.6666666666666666,
              "#ed7953"
             ],
             [
              0.7777777777777778,
              "#fb9f3a"
             ],
             [
              0.8888888888888888,
              "#fdca26"
             ],
             [
              1,
              "#f0f921"
             ]
            ],
            "type": "surface"
           }
          ],
          "table": [
           {
            "cells": {
             "fill": {
              "color": "#EBF0F8"
             },
             "line": {
              "color": "white"
             }
            },
            "header": {
             "fill": {
              "color": "#C8D4E3"
             },
             "line": {
              "color": "white"
             }
            },
            "type": "table"
           }
          ]
         },
         "layout": {
          "annotationdefaults": {
           "arrowcolor": "#2a3f5f",
           "arrowhead": 0,
           "arrowwidth": 1
          },
          "autotypenumbers": "strict",
          "coloraxis": {
           "colorbar": {
            "outlinewidth": 0,
            "ticks": ""
           }
          },
          "colorscale": {
           "diverging": [
            [
             0,
             "#8e0152"
            ],
            [
             0.1,
             "#c51b7d"
            ],
            [
             0.2,
             "#de77ae"
            ],
            [
             0.3,
             "#f1b6da"
            ],
            [
             0.4,
             "#fde0ef"
            ],
            [
             0.5,
             "#f7f7f7"
            ],
            [
             0.6,
             "#e6f5d0"
            ],
            [
             0.7,
             "#b8e186"
            ],
            [
             0.8,
             "#7fbc41"
            ],
            [
             0.9,
             "#4d9221"
            ],
            [
             1,
             "#276419"
            ]
           ],
           "sequential": [
            [
             0,
             "#0d0887"
            ],
            [
             0.1111111111111111,
             "#46039f"
            ],
            [
             0.2222222222222222,
             "#7201a8"
            ],
            [
             0.3333333333333333,
             "#9c179e"
            ],
            [
             0.4444444444444444,
             "#bd3786"
            ],
            [
             0.5555555555555556,
             "#d8576b"
            ],
            [
             0.6666666666666666,
             "#ed7953"
            ],
            [
             0.7777777777777778,
             "#fb9f3a"
            ],
            [
             0.8888888888888888,
             "#fdca26"
            ],
            [
             1,
             "#f0f921"
            ]
           ],
           "sequentialminus": [
            [
             0,
             "#0d0887"
            ],
            [
             0.1111111111111111,
             "#46039f"
            ],
            [
             0.2222222222222222,
             "#7201a8"
            ],
            [
             0.3333333333333333,
             "#9c179e"
            ],
            [
             0.4444444444444444,
             "#bd3786"
            ],
            [
             0.5555555555555556,
             "#d8576b"
            ],
            [
             0.6666666666666666,
             "#ed7953"
            ],
            [
             0.7777777777777778,
             "#fb9f3a"
            ],
            [
             0.8888888888888888,
             "#fdca26"
            ],
            [
             1,
             "#f0f921"
            ]
           ]
          },
          "colorway": [
           "#636efa",
           "#EF553B",
           "#00cc96",
           "#ab63fa",
           "#FFA15A",
           "#19d3f3",
           "#FF6692",
           "#B6E880",
           "#FF97FF",
           "#FECB52"
          ],
          "font": {
           "color": "#2a3f5f"
          },
          "geo": {
           "bgcolor": "white",
           "lakecolor": "white",
           "landcolor": "#E5ECF6",
           "showlakes": true,
           "showland": true,
           "subunitcolor": "white"
          },
          "hoverlabel": {
           "align": "left"
          },
          "hovermode": "closest",
          "mapbox": {
           "style": "light"
          },
          "paper_bgcolor": "white",
          "plot_bgcolor": "#E5ECF6",
          "polar": {
           "angularaxis": {
            "gridcolor": "white",
            "linecolor": "white",
            "ticks": ""
           },
           "bgcolor": "#E5ECF6",
           "radialaxis": {
            "gridcolor": "white",
            "linecolor": "white",
            "ticks": ""
           }
          },
          "scene": {
           "xaxis": {
            "backgroundcolor": "#E5ECF6",
            "gridcolor": "white",
            "gridwidth": 2,
            "linecolor": "white",
            "showbackground": true,
            "ticks": "",
            "zerolinecolor": "white"
           },
           "yaxis": {
            "backgroundcolor": "#E5ECF6",
            "gridcolor": "white",
            "gridwidth": 2,
            "linecolor": "white",
            "showbackground": true,
            "ticks": "",
            "zerolinecolor": "white"
           },
           "zaxis": {
            "backgroundcolor": "#E5ECF6",
            "gridcolor": "white",
            "gridwidth": 2,
            "linecolor": "white",
            "showbackground": true,
            "ticks": "",
            "zerolinecolor": "white"
           }
          },
          "shapedefaults": {
           "line": {
            "color": "#2a3f5f"
           }
          },
          "ternary": {
           "aaxis": {
            "gridcolor": "white",
            "linecolor": "white",
            "ticks": ""
           },
           "baxis": {
            "gridcolor": "white",
            "linecolor": "white",
            "ticks": ""
           },
           "bgcolor": "#E5ECF6",
           "caxis": {
            "gridcolor": "white",
            "linecolor": "white",
            "ticks": ""
           }
          },
          "title": {
           "x": 0.05
          },
          "xaxis": {
           "automargin": true,
           "gridcolor": "white",
           "linecolor": "white",
           "ticks": "",
           "title": {
            "standoff": 15
           },
           "zerolinecolor": "white",
           "zerolinewidth": 2
          },
          "yaxis": {
           "automargin": true,
           "gridcolor": "white",
           "linecolor": "white",
           "ticks": "",
           "title": {
            "standoff": 15
           },
           "zerolinecolor": "white",
           "zerolinewidth": 2
          }
         }
        },
        "title": {
         "text": "Residual Plots versus predicted values",
         "x": 0.5
        },
        "width": 600,
        "xaxis": {
         "title": {
          "text": "predicted"
         }
        },
        "yaxis": {
         "title": {
          "text": "residuals"
         }
        }
       }
      }
     },
     "metadata": {},
     "output_type": "display_data"
    }
   ],
   "source": [
    "# 추정된 회귀모형을 train, test에 적용하여 잔차 구하기\n",
    "y_train_pred = mlr.predict(X_train)\n",
    "y_test_pred = mlr.predict(X_test)\n",
    "import plotly.graph_objects as go\n",
    "fig = go.Figure()\n",
    "fig.add_trace(go.Scatter(x=y_train_pred, y=y_train_pred - y_train, mode = 'markers',\n",
    "name = 'Training data'))\n",
    "fig.add_trace(go.Scatter(x=y_test_pred, y=y_test_pred - y_test, mode = 'markers',\n",
    "name = 'Test data'))\n",
    "fig.update_layout(width=600, height=400, title_text='Residual Plots versus predicted values',\n",
    "title_x=0.5)\n",
    "fig.update_xaxes(title_text='predicted')\n",
    "fig.update_yaxes(title_text='residuals')\n",
    "fig.show()"
   ]
  },
  {
   "cell_type": "code",
   "execution_count": 26,
   "id": "8b55f16b",
   "metadata": {},
   "outputs": [
    {
     "name": "stdout",
     "output_type": "stream",
     "text": [
      "MSE train: 18.281, test: 18.133\n"
     ]
    }
   ],
   "source": [
    "# train, test로 MSE 계산\n",
    "from sklearn.metrics import mean_squared_error\n",
    "print('MSE train: %.3f, test: %.3f' % (mean_squared_error(y_train, y_train_pred),\n",
    "mean_squared_error(y_test, y_test_pred)))"
   ]
  },
  {
   "cell_type": "code",
   "execution_count": 27,
   "id": "b69eb7e8",
   "metadata": {},
   "outputs": [
    {
     "name": "stdout",
     "output_type": "stream",
     "text": [
      "R^2 train: 0.775, test: 0.802\n"
     ]
    }
   ],
   "source": [
    "# train, test로 R^2 계산\n",
    "from sklearn.metrics import r2_score\n",
    "print('R^2 train: %.3f, test: %.3f' %(r2_score(y_train, y_train_pred), r2_score(y_test,\n",
    "y_test_pred)))"
   ]
  },
  {
   "cell_type": "code",
   "execution_count": 29,
   "id": "b891f5fa",
   "metadata": {},
   "outputs": [],
   "source": [
    "# RANSAC 적용하기\n",
    "from sklearn.linear_model import RANSACRegressor\n",
    "rans = RANSACRegressor(max_trials=100, min_samples=45, loss='absolute_error', residual_threshold=5.0,\n",
    "random_state=1)\n",
    "rans.fit(X, y)\n",
    "y_train_pred = rans.predict(X_train)\n",
    "y_test_pred = rans.predict(X_test)"
   ]
  },
  {
   "cell_type": "code",
   "execution_count": 32,
   "id": "4cd4f5d4",
   "metadata": {},
   "outputs": [
    {
     "name": "stdout",
     "output_type": "stream",
     "text": [
      "[False  True  True  True False  True  True False  True  True  True  True\n",
      "  True  True  True  True  True  True  True  True  True  True  True  True\n",
      "  True  True  True  True  True  True  True  True  True  True  True False\n",
      "  True  True  True  True False  True  True  True  True  True  True  True\n",
      "  True  True  True  True  True  True  True  True  True False  True  True\n",
      "  True  True  True  True False False False  True  True  True  True  True\n",
      "  True  True  True  True  True  True  True  True  True  True  True  True\n",
      "  True  True  True  True False  True  True False  True  True  True  True\n",
      "  True  True False  True False  True  True  True  True  True  True  True\n",
      "  True  True  True  True  True  True  True  True  True  True  True  True\n",
      "  True  True  True  True  True  True  True  True  True  True  True  True\n",
      " False  True  True  True  True  True  True  True  True False  True  True\n",
      "  True  True  True  True False  True  True  True  True  True  True  True\n",
      "  True False  True  True  True False False False  True  True False  True\n",
      "  True  True  True  True  True False  True  True  True False  True  True\n",
      " False False  True  True  True  True False  True  True  True False  True\n",
      "  True  True  True  True  True  True  True  True  True False  True False\n",
      "  True  True  True False  True  True  True  True  True False False  True\n",
      "  True  True  True  True  True  True  True  True False False  True  True\n",
      " False  True  True  True  True False  True  True  True  True  True  True\n",
      "  True  True  True  True  True  True False  True  True  True  True  True\n",
      "  True False  True  True  True False  True False  True False False  True\n",
      "  True False  True False  True  True  True  True  True  True False False\n",
      "  True  True  True  True False  True  True  True  True False  True  True\n",
      "  True  True False  True False  True  True  True  True  True False  True\n",
      " False  True  True  True  True  True  True False False  True  True  True\n",
      "  True  True  True  True  True  True  True  True  True  True  True  True\n",
      "  True  True  True False  True  True  True  True  True  True  True  True\n",
      "  True  True  True  True  True  True  True  True  True  True  True  True\n",
      "  True  True  True  True  True  True  True  True  True  True  True False\n",
      " False  True  True  True False False False False False False False False\n",
      " False  True False  True  True  True  True  True  True  True  True  True\n",
      "  True  True  True  True  True  True  True False  True  True  True  True\n",
      "  True False  True  True False False  True  True  True  True  True False\n",
      "  True False  True  True False  True  True  True False  True  True  True\n",
      "  True  True  True  True  True  True False  True  True  True  True  True\n",
      "  True  True  True  True  True  True  True  True  True  True  True  True\n",
      "  True  True  True  True  True  True  True  True  True  True  True  True\n",
      "  True  True  True False  True  True  True  True False False  True  True\n",
      " False  True  True  True False False  True  True  True  True  True  True\n",
      "  True  True  True  True False  True  True  True False  True  True  True\n",
      " False  True False False False  True  True  True  True  True  True  True\n",
      "  True False]\n",
      "[ True False False False  True False False  True False False False False\n",
      " False False False False False False False False False False False False\n",
      " False False False False False False False False False False False  True\n",
      " False False False False  True False False False False False False False\n",
      " False False False False False False False False False  True False False\n",
      " False False False False  True  True  True False False False False False\n",
      " False False False False False False False False False False False False\n",
      " False False False False  True False False  True False False False False\n",
      " False False  True False  True False False False False False False False\n",
      " False False False False False False False False False False False False\n",
      " False False False False False False False False False False False False\n",
      "  True False False False False False False False False  True False False\n",
      " False False False False  True False False False False False False False\n",
      " False  True False False False  True  True  True False False  True False\n",
      " False False False False False  True False False False  True False False\n",
      "  True  True False False False False  True False False False  True False\n",
      " False False False False False False False False False  True False  True\n",
      " False False False  True False False False False False  True  True False\n",
      " False False False False False False False False  True  True False False\n",
      "  True False False False False  True False False False False False False\n",
      " False False False False False False  True False False False False False\n",
      " False  True False False False  True False  True False  True  True False\n",
      " False  True False  True False False False False False False  True  True\n",
      " False False False False  True False False False False  True False False\n",
      " False False  True False  True False False False False False  True False\n",
      "  True False False False False False False  True  True False False False\n",
      " False False False False False False False False False False False False\n",
      " False False False  True False False False False False False False False\n",
      " False False False False False False False False False False False False\n",
      " False False False False False False False False False False False  True\n",
      "  True False False False  True  True  True  True  True  True  True  True\n",
      "  True False  True False False False False False False False False False\n",
      " False False False False False False False  True False False False False\n",
      " False  True False False  True  True False False False False False  True\n",
      " False  True False False  True False False False  True False False False\n",
      " False False False False False False  True False False False False False\n",
      " False False False False False False False False False False False False\n",
      " False False False False False False False False False False False False\n",
      " False False False  True False False False False  True  True False False\n",
      "  True False False False  True  True False False False False False False\n",
      " False False False False  True False False False  True False False False\n",
      "  True False  True  True  True False False False False False False False\n",
      " False  True]\n"
     ]
    }
   ],
   "source": [
    "# 회귀계수 추정에 사용된 데이터 (일종의 서포트 벡터) 확인하기\n",
    "inlier_mask = rans.inlier_mask_\n",
    "outlier_mask = np.logical_not(inlier_mask)\n",
    "\n",
    "print(inlier_mask)\n",
    "print(outlier_mask)"
   ]
  },
  {
   "cell_type": "code",
   "execution_count": 33,
   "id": "ab864114",
   "metadata": {},
   "outputs": [],
   "source": [
    "# 선형 SVM 회귀와 비선형 커털 SVM 회귀 각각 적합\n",
    "from sklearn.svm import SVR\n",
    "svl = SVR(kernel='linear', C=1.0, epsilon=0.1)\n",
    "svr = SVR(kernel='rbf', C=1.0, epsilon=0.1, gamma='scale')\n",
    "svl.fit(X_train, y_train)\n",
    "svr.fit(X_train, y_train)\n",
    "y_train_predsvl = svl.predict(X_train)\n",
    "y_train_predsvr = svr.predict(X_train)\n",
    "y_test_predsvl = svl.predict(X_test)\n",
    "y_test_predsvr = svr.predict(X_test)"
   ]
  },
  {
   "cell_type": "code",
   "execution_count": 34,
   "id": "d821a973",
   "metadata": {},
   "outputs": [
    {
     "name": "stdout",
     "output_type": "stream",
     "text": [
      "21.985686319030847 17.82436651889724 66.81630398602833 75.20399632666582\n"
     ]
    }
   ],
   "source": [
    "# 선형 SVM 회귀 vs. 비선형 커널 SVM 회귀 MSE 비교\n",
    "from sklearn.metrics import mean_squared_error\n",
    "mse_l_train = mean_squared_error(y_train, y_train_predsvl)\n",
    "mse_l_test = mean_squared_error(y_test, y_test_predsvl)\n",
    "mse_n_train = mean_squared_error(y_train, y_train_predsvr)\n",
    "mse_n_test = mean_squared_error(y_test, y_test_predsvr)\n",
    "print(mse_l_train, mse_l_test, mse_n_train, mse_n_test)"
   ]
  },
  {
   "cell_type": "code",
   "execution_count": 35,
   "id": "83bf8675",
   "metadata": {},
   "outputs": [
    {
     "name": "stdout",
     "output_type": "stream",
     "text": [
      "0.7292038429875223 0.1770282681813704\n"
     ]
    }
   ],
   "source": [
    "# 선형 SVM 회귀 vs. 비선형 커널 SVM 회귀 R^2 계산\n",
    "from sklearn.metrics import r2_score\n",
    "R2_l = r2_score(y_train, y_train_predsvl)\n",
    "R2_n = r2_score(y_train, y_train_predsvr)\n",
    "print(R2_l, R2_n)"
   ]
  }
 ],
 "metadata": {
  "kernelspec": {
   "display_name": ".venv",
   "language": "python",
   "name": "python3"
  },
  "language_info": {
   "codemirror_mode": {
    "name": "ipython",
    "version": 3
   },
   "file_extension": ".py",
   "mimetype": "text/x-python",
   "name": "python",
   "nbconvert_exporter": "python",
   "pygments_lexer": "ipython3",
   "version": "3.11.9"
  }
 },
 "nbformat": 4,
 "nbformat_minor": 5
}
